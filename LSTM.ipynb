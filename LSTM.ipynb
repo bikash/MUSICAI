{
 "cells": [
  {
   "cell_type": "code",
   "execution_count": 44,
   "metadata": {},
   "outputs": [],
   "source": [
    "from music21 import *\n",
    "#for listing down the file names\n",
    "import os\n",
    "import numpy as np\n",
    "from music21.midi import percussion\n",
    "from music21 import pitch"
   ]
  },
  {
   "cell_type": "code",
   "execution_count": 45,
   "metadata": {},
   "outputs": [],
   "source": [
    "#defining function to read MIDI files\n",
    "def read_midi(file):\n",
    "    \n",
    "    print(\"Loading Music File:\",file)\n",
    "    \n",
    "    notes=[]\n",
    "    notes_to_parse = None\n",
    "    \n",
    "    #parsing a midi file\n",
    "    midi = converter.parse(file)\n",
    "  \n",
    "\n",
    "\n",
    "    try: # file has instrument parts\n",
    "        s2 = instrument.partitionByInstrument(midi)\n",
    "        notes_to_parse = s2.parts[0].recurse() \n",
    "    except: # file has notes in a flat structure\n",
    "        notes_to_parse = midi.flat.notes\n",
    "\n",
    " \n",
    "    #finding whether a particular element is note or a chord\n",
    "    for element in notes_to_parse:\n",
    "                \n",
    "        #note\n",
    "        if isinstance(element, note.Note):\n",
    "            midiNumber = element.pitch.midi\n",
    "            notes.append(str(midiNumber))\n",
    "                \n",
    "        #chord\n",
    "        #elif isinstance(element, chord.Chord):\n",
    "        #    notes.append('.'.join(str(n) for n in element.normalOrder))\n",
    "\n",
    "    return np.array(notes)"
   ]
  },
  {
   "cell_type": "code",
   "execution_count": 46,
   "metadata": {},
   "outputs": [
    {
     "name": "stdout",
     "output_type": "stream",
     "text": [
      "Loading Music File: midi_songs/73_neworleans-funk_93_fill_4-4.mid\n",
      "Loading Music File: midi_songs/3_rock_60_fill_4-4.mid\n",
      "Loading Music File: midi_songs/116_rock_95_fill_4-4.mid\n",
      "Loading Music File: midi_songs/135_soul_105_fill_4-4.mid\n",
      "Loading Music File: midi_songs/26_hiphop_67_fill_4-4.mid\n",
      "Loading Music File: midi_songs/87_neworleans-funk_93_fill_4-4.mid\n",
      "Loading Music File: midi_songs/110_rock_95_fill_4-4.mid\n",
      "Loading Music File: midi_songs/79_neworleans-funk_93_fill_4-4.mid\n",
      "Loading Music File: midi_songs/90_neworleans-funk_93_fill_4-4.mid\n",
      "Loading Music File: midi_songs/22_pop-soft_83_beat_4-4.mid\n",
      "Loading Music File: midi_songs/133_soul_105_beat_4-4.mid\n",
      "Loading Music File: midi_songs/149_soul_105_fill_4-4.mid\n",
      "Loading Music File: midi_songs/2_rock_60_fill_4-4.mid\n",
      "Loading Music File: midi_songs/36_hiphop_67_fill_4-4.mid\n",
      "Loading Music File: midi_songs/55_funk_112_fill_4-4.mid\n",
      "Loading Music File: midi_songs/137_soul_105_fill_4-4.mid\n",
      "Loading Music File: midi_songs/125_rock_93_fill_4-4.mid\n",
      "Loading Music File: midi_songs/77_neworleans-funk_93_fill_4-4.mid\n",
      "Loading Music File: midi_songs/19_pop-soft_83_fill_4-4.mid\n",
      "Loading Music File: midi_songs/102_hiphop_70_fill_4-4.mid\n",
      "Loading Music File: midi_songs/15_pop-soft_83_fill_4-4.mid\n",
      "Loading Music File: midi_songs/43_rock-indie_63_fill_4-4.mid\n",
      "Loading Music File: midi_songs/103_hiphop_70_fill_4-4.mid\n",
      "Loading Music File: midi_songs/9_rock_60_fill_4-4.mid\n",
      "Loading Music File: midi_songs/86_neworleans-funk_93_fill_4-4.mid\n",
      "Loading Music File: midi_songs/48_funk_112_beat_4-4.mid\n",
      "Loading Music File: midi_songs/76_neworleans-funk_93_fill_4-4.mid\n",
      "Loading Music File: midi_songs/147_soul_105_fill_4-4.mid\n",
      "Loading Music File: midi_songs/32_hiphop_67_fill_4-4.mid\n",
      "Loading Music File: midi_songs/89_neworleans-funk_93_fill_4-4.mid\n",
      "Loading Music File: midi_songs/81_neworleans-funk_93_fill_4-4.mid\n",
      "Loading Music File: midi_songs/126_rock_93_fill_4-4.mid\n",
      "Loading Music File: midi_songs/142_soul_105_fill_4-4.mid\n",
      "Loading Music File: midi_songs/61_funk_112_fill_4-4.mid\n",
      "Loading Music File: midi_songs/140_soul_105_fill_4-4.mid\n",
      "Loading Music File: midi_songs/52_funk_112_fill_4-4.mid\n",
      "Loading Music File: midi_songs/64_funk_112_beat_4-4.mid\n",
      "Loading Music File: midi_songs/57_funk_112_fill_4-4.mid\n",
      "Loading Music File: midi_songs/144_soul_105_fill_4-4.mid\n",
      "Loading Music File: midi_songs/17_pop-soft_83_fill_4-4.mid\n",
      "Loading Music File: midi_songs/24_hiphop_67_beat_4-4.mid\n",
      "Loading Music File: midi_songs/5_rock_60_fill_4-4.mid\n",
      "Loading Music File: midi_songs/67_neworleans-funk_93_beat_4-4.mid\n",
      "Loading Music File: midi_songs/14_pop-soft_83_fill_4-4.mid\n",
      "Loading Music File: midi_songs/119_rock_95_beat_4-4.mid\n",
      "Loading Music File: midi_songs/112_rock_95_fill_4-4.mid\n",
      "Loading Music File: midi_songs/29_hiphop_67_fill_4-4.mid\n",
      "Loading Music File: midi_songs/47_funk_112_beat_4-4.mid\n",
      "Loading Music File: midi_songs/70_neworleans-funk_93_fill_4-4.mid\n",
      "Loading Music File: midi_songs/100_hiphop_70_fill_4-4.mid\n",
      "Loading Music File: midi_songs/49_funk_112_beat_4-4.mid\n",
      "Loading Music File: midi_songs/51_funk_112_fill_4-4.mid\n",
      "Loading Music File: midi_songs/146_soul_105_fill_4-4.mid\n",
      "Loading Music File: midi_songs/113_rock_95_fill_4-4.mid\n",
      "Loading Music File: midi_songs/39_rock-indie_63_beat_4-4.mid\n",
      "Loading Music File: midi_songs/153_soul_98_fill_4-4.mid\n",
      "Loading Music File: midi_songs/139_soul_105_fill_4-4.mid\n",
      "Loading Music File: midi_songs/62_funk_112_fill_4-4.mid\n",
      "Loading Music File: midi_songs/120_rock_93_beat_4-4.mid\n",
      "Loading Music File: midi_songs/60_funk_112_fill_4-4.mid\n",
      "Loading Music File: midi_songs/50_funk_112_fill_4-4.mid\n",
      "Loading Music File: midi_songs/84_neworleans-funk_93_fill_4-4.mid\n",
      "Loading Music File: midi_songs/114_rock_95_fill_4-4.mid\n",
      "Loading Music File: midi_songs/7_rock_60_fill_4-4.mid\n",
      "Loading Music File: midi_songs/101_hiphop_70_fill_4-4.mid\n",
      "Loading Music File: midi_songs/143_soul_105_fill_4-4.mid\n",
      "Loading Music File: midi_songs/59_funk_112_fill_4-4.mid\n",
      "Loading Music File: midi_songs/42_rock-indie_63_fill_4-4.mid\n",
      "Loading Music File: midi_songs/108_rock_95_beat_4-4.mid\n",
      "Loading Music File: midi_songs/111_rock_95_fill_4-4.mid\n",
      "Loading Music File: midi_songs/148_soul_105_fill_4-4.mid\n",
      "Loading Music File: midi_songs/16_pop-soft_83_fill_4-4.mid\n",
      "Loading Music File: midi_songs/156_soul_98_fill_4-4.mid\n",
      "Loading Music File: midi_songs/1_rock_60_beat_4-4.mid\n",
      "Loading Music File: midi_songs/35_hiphop_67_fill_4-4.mid\n",
      "Loading Music File: midi_songs/97_hiphop_70_fill_4-4.mid\n",
      "Loading Music File: midi_songs/91_neworleans-funk_93_beat_4-4.mid\n",
      "Loading Music File: midi_songs/99_hiphop_70_fill_4-4.mid\n",
      "Loading Music File: midi_songs/158_soul_98_fill_4-4.mid\n",
      "Loading Music File: midi_songs/25_hiphop_67_fill_4-4.mid\n",
      "Loading Music File: midi_songs/117_rock_95_beat_4-4.mid\n",
      "Loading Music File: midi_songs/154_soul_98_fill_4-4.mid\n",
      "Loading Music File: midi_songs/80_neworleans-funk_93_fill_4-4.mid\n",
      "Loading Music File: midi_songs/104_hiphop_70_fill_4-4.mid\n",
      "Loading Music File: midi_songs/124_rock_93_fill_4-4.mid\n",
      "Loading Music File: midi_songs/30_hiphop_67_fill_4-4.mid\n",
      "Loading Music File: midi_songs/136_soul_105_fill_4-4.mid\n",
      "Loading Music File: midi_songs/33_hiphop_67_fill_4-4.mid\n",
      "Loading Music File: midi_songs/151_soul_98_beat_4-4.mid\n",
      "Loading Music File: midi_songs/127_rock_93_fill_4-4.mid\n",
      "Loading Music File: midi_songs/82_neworleans-funk_93_fill_4-4.mid\n",
      "Loading Music File: midi_songs/129_rock_93_beat_4-4.mid\n",
      "Loading Music File: midi_songs/93_hiphop_70_fill_4-4.mid\n",
      "Loading Music File: midi_songs/58_funk_112_fill_4-4.mid\n",
      "Loading Music File: midi_songs/37_hiphop_67_fill_4-4.mid\n",
      "Loading Music File: midi_songs/107_hiphop_70_fill_4-4.mid\n",
      "Loading Music File: midi_songs/92_hiphop_70_beat_4-4.mid\n",
      "Loading Music File: midi_songs/65_funk_112_beat_4-4.mid\n",
      "Loading Music File: midi_songs/75_neworleans-funk_93_fill_4-4.mid\n",
      "Loading Music File: midi_songs/41_rock-indie_63_fill_4-4.mid\n",
      "Loading Music File: midi_songs/20_pop-soft_83_fill_4-4.mid\n",
      "Loading Music File: midi_songs/63_funk_112_fill_4-4.mid\n",
      "Loading Music File: midi_songs/18_pop-soft_83_fill_4-4.mid\n",
      "Loading Music File: midi_songs/121_rock_93_fill_4-4.mid\n",
      "Loading Music File: midi_songs/141_soul_105_fill_4-4.mid\n",
      "Loading Music File: midi_songs/8_rock_60_fill_4-4.mid\n",
      "Loading Music File: midi_songs/95_hiphop_70_fill_4-4.mid\n",
      "Loading Music File: midi_songs/159_soul_98_beat_4-4.mid\n",
      "Loading Music File: midi_songs/96_hiphop_70_fill_4-4.mid\n",
      "Loading Music File: midi_songs/21_pop-soft_83_fill_4-4.mid\n",
      "Loading Music File: midi_songs/66_funk_112_fill_4-4.mid\n",
      "Loading Music File: midi_songs/118_rock_95_fill_4-4.mid\n",
      "Loading Music File: midi_songs/54_funk_112_fill_4-4.mid\n",
      "Loading Music File: midi_songs/132_soul_105_beat_4-4.mid\n",
      "Loading Music File: midi_songs/69_neworleans-funk_93_fill_4-4.mid\n",
      "Loading Music File: midi_songs/28_hiphop_67_fill_4-4.mid\n",
      "Loading Music File: midi_songs/105_hiphop_70_fill_4-4.mid\n",
      "Loading Music File: midi_songs/128_rock_93_fill_4-4.mid\n",
      "Loading Music File: midi_songs/53_funk_112_fill_4-4.mid\n",
      "Loading Music File: midi_songs/34_hiphop_67_fill_4-4.mid\n",
      "Loading Music File: midi_songs/38_hiphop_67_beat_4-4.mid\n",
      "Loading Music File: midi_songs/83_neworleans-funk_93_fill_4-4.mid\n",
      "Loading Music File: midi_songs/27_hiphop_67_fill_4-4.mid\n",
      "Loading Music File: midi_songs/88_neworleans-funk_93_fill_4-4.mid\n",
      "Loading Music File: midi_songs/45_rock-indie_63_fill_4-4.mid\n",
      "Loading Music File: midi_songs/106_hiphop_70_beat_4-4.mid\n",
      "Loading Music File: midi_songs/131_soul_105_beat_4-4.mid\n",
      "Loading Music File: midi_songs/46_rock-indie_63_beat_4-4.mid\n",
      "Loading Music File: midi_songs/6_rock_60_fill_4-4.mid\n",
      "Loading Music File: midi_songs/115_rock_95_fill_4-4.mid\n",
      "Loading Music File: midi_songs/145_soul_105_fill_4-4.mid\n",
      "Loading Music File: midi_songs/12_pop-soft_83_fill_4-4.mid\n",
      "Loading Music File: midi_songs/44_rock-indie_63_fill_4-4.mid\n",
      "Loading Music File: midi_songs/13_pop-soft_83_fill_4-4.mid\n",
      "Loading Music File: midi_songs/78_neworleans-funk_93_fill_4-4.mid\n",
      "Loading Music File: midi_songs/74_neworleans-funk_93_fill_4-4.mid\n",
      "Loading Music File: midi_songs/98_hiphop_70_fill_4-4.mid\n",
      "Loading Music File: midi_songs/4_rock_60_fill_4-4.mid\n",
      "Loading Music File: midi_songs/23_pop-soft_83_beat_4-4.mid\n",
      "Loading Music File: midi_songs/157_soul_98_fill_4-4.mid\n",
      "Loading Music File: midi_songs/122_rock_93_fill_4-4.mid\n",
      "Loading Music File: midi_songs/130_soul_105_beat_4-4.mid\n",
      "Loading Music File: midi_songs/40_rock-indie_63_fill_4-4.mid\n",
      "Loading Music File: midi_songs/155_soul_98_fill_4-4.mid\n",
      "Loading Music File: midi_songs/71_neworleans-funk_93_fill_4-4.mid\n",
      "Loading Music File: midi_songs/109_rock_95_beat_4-4.mid\n"
     ]
    },
    {
     "name": "stdout",
     "output_type": "stream",
     "text": [
      "Loading Music File: midi_songs/68_neworleans-funk_93_fill_4-4.mid\n",
      "Loading Music File: midi_songs/138_soul_105_fill_4-4.mid\n",
      "Loading Music File: midi_songs/31_hiphop_67_fill_4-4.mid\n",
      "Loading Music File: midi_songs/94_hiphop_70_fill_4-4.mid\n",
      "Loading Music File: midi_songs/134_soul_105_fill_4-4.mid\n",
      "Loading Music File: midi_songs/72_neworleans-funk_93_fill_4-4.mid\n",
      "Loading Music File: midi_songs/152_soul_98_fill_4-4.mid\n",
      "Loading Music File: midi_songs/123_rock_93_fill_4-4.mid\n",
      "Loading Music File: midi_songs/85_neworleans-funk_93_fill_4-4.mid\n",
      "Loading Music File: midi_songs/10_rock_60_beat_4-4.mid\n",
      "Loading Music File: midi_songs/150_soul_105_beat_4-4.mid\n",
      "Loading Music File: midi_songs/56_funk_112_fill_4-4.mid\n",
      "Loading Music File: midi_songs/11_pop-soft_83_beat_4-4.mid\n"
     ]
    }
   ],
   "source": [
    "#specify the path\n",
    "path='midi_songs/'\n",
    "\n",
    "#read all the filenames\n",
    "files=[i for i in os.listdir(path) if i.endswith(\".mid\")]\n",
    "\n",
    "#reading each midi file\n",
    "notes_array = np.array([read_midi(path+i) for i in files])"
   ]
  },
  {
   "cell_type": "code",
   "execution_count": 47,
   "metadata": {},
   "outputs": [
    {
     "name": "stdout",
     "output_type": "stream",
     "text": [
      "20\n",
      "['49', '36', '48', '59', '38', '45', '40', '47', '22', '26', '37', '46', '42', '44', '58', '55', '53', '51', '43', '50']\n"
     ]
    }
   ],
   "source": [
    "#converting 2D array into 1D array\n",
    "notes_ = [element for note_ in notes_array for element in note_]\n",
    "\n",
    "#No. of unique notes\n",
    "unique_notes = list(set(notes_))\n",
    "print(len(unique_notes))\n",
    "print (unique_notes)"
   ]
  },
  {
   "cell_type": "code",
   "execution_count": 48,
   "metadata": {},
   "outputs": [
    {
     "data": {
      "text/plain": [
       "(array([14.,  4.,  0.,  0.,  0.,  1.,  0.,  0.,  0.,  1.]),\n",
       " array([   6. ,  336.2,  666.4,  996.6, 1326.8, 1657. , 1987.2, 2317.4,\n",
       "        2647.6, 2977.8, 3308. ]),\n",
       " <a list of 10 Patch objects>)"
      ]
     },
     "execution_count": 48,
     "metadata": {},
     "output_type": "execute_result"
    },
    {
     "data": {
      "image/png": "[encoded data removed]",
      "text/plain": [
       "<Figure size 360x360 with 1 Axes>"
      ]
     },
     "metadata": {
      "image/png": {
       "height": 304,
       "width": 314
      },
      "needs_background": "light"
     },
     "output_type": "display_data"
    }
   ],
   "source": [
    "#importing library\n",
    "from collections import Counter\n",
    "\n",
    "#computing frequency of each note\n",
    "freq = dict(Counter(notes_))\n",
    "\n",
    "#library for visualiation\n",
    "import matplotlib.pyplot as plt\n",
    "\n",
    "#consider only the frequencies\n",
    "no=[count for _,count in freq.items()]\n",
    "\n",
    "#set the figure size\n",
    "plt.figure(figsize=(5,5))\n",
    "\n",
    "#plot\n",
    "plt.hist(no)"
   ]
  },
  {
   "cell_type": "code",
   "execution_count": 49,
   "metadata": {},
   "outputs": [
    {
     "name": "stdout",
     "output_type": "stream",
     "text": [
      "20\n"
     ]
    }
   ],
   "source": [
    "frequent_notes = [note_ for note_, count in freq.items() if count>=2]\n",
    "print(len(frequent_notes))"
   ]
  },
  {
   "cell_type": "code",
   "execution_count": 50,
   "metadata": {},
   "outputs": [],
   "source": [
    "new_music=[]\n",
    "\n",
    "for notes in notes_array:\n",
    "    temp=[]\n",
    "    for note_ in notes:\n",
    "        if note_ in frequent_notes:\n",
    "            temp.append(note_)            \n",
    "    new_music.append(temp)\n",
    "    \n",
    "new_music = np.array(new_music)\n",
    "#new_music"
   ]
  },
  {
   "cell_type": "code",
   "execution_count": 51,
   "metadata": {},
   "outputs": [
    {
     "name": "stdout",
     "output_type": "stream",
     "text": [
      "(5945, 32) (5945,)\n"
     ]
    }
   ],
   "source": [
    "\n",
    "no_of_timesteps = 32\n",
    "x = []\n",
    "y = []\n",
    "\n",
    "for note_ in new_music:\n",
    "    for i in range(0, len(note_) - no_of_timesteps, 1):\n",
    "        \n",
    "        #preparing input and output sequences\n",
    "        input_ = note_[i:i + no_of_timesteps]\n",
    "        output = note_[i + no_of_timesteps]\n",
    "        \n",
    "        x.append(input_)\n",
    "        y.append(output)\n",
    "        \n",
    "x=np.array(x)\n",
    "y=np.array(y)\n",
    "print (x.shape, y.shape)"
   ]
  },
  {
   "cell_type": "code",
   "execution_count": 52,
   "metadata": {},
   "outputs": [
    {
     "data": {
      "text/plain": [
       "{'49': 0,\n",
       " '36': 1,\n",
       " '48': 2,\n",
       " '59': 3,\n",
       " '38': 4,\n",
       " '45': 5,\n",
       " '40': 6,\n",
       " '47': 7,\n",
       " '22': 8,\n",
       " '26': 9,\n",
       " '37': 10,\n",
       " '46': 11,\n",
       " '42': 12,\n",
       " '44': 13,\n",
       " '58': 14,\n",
       " '55': 15,\n",
       " '53': 16,\n",
       " '51': 17,\n",
       " '43': 18,\n",
       " '50': 19}"
      ]
     },
     "execution_count": 52,
     "metadata": {},
     "output_type": "execute_result"
    }
   ],
   "source": [
    "unique_x = list(set(x.ravel()))\n",
    "x_note_to_int = dict((note_, number) for number, note_ in enumerate(unique_x))\n",
    "x_note_to_int"
   ]
  },
  {
   "cell_type": "code",
   "execution_count": 53,
   "metadata": {},
   "outputs": [
    {
     "data": {
      "text/plain": [
       "array([[ 2,  2, 19, ...,  2,  4,  7],\n",
       "       [ 2, 19,  2, ...,  4,  7,  4],\n",
       "       [19,  2,  2, ...,  7,  4,  4],\n",
       "       ...,\n",
       "       [17, 17, 13, ...,  4,  4,  4],\n",
       "       [17, 13,  4, ...,  4,  4, 18],\n",
       "       [13,  4,  4, ...,  4, 18, 18]])"
      ]
     },
     "execution_count": 53,
     "metadata": {},
     "output_type": "execute_result"
    }
   ],
   "source": [
    "#preparing input sequences\n",
    "x_seq=[]\n",
    "for i in x:\n",
    "    temp=[]\n",
    "    for j in i:\n",
    "        #assigning unique integer to every note\n",
    "        temp.append(x_note_to_int[j])\n",
    "    x_seq.append(temp)\n",
    "    \n",
    "x_seq = np.array(x_seq)\n",
    "x_seq"
   ]
  },
  {
   "cell_type": "code",
   "execution_count": 54,
   "metadata": {},
   "outputs": [
    {
     "data": {
      "text/plain": [
       "array([ 4,  4,  6, ..., 18, 18, 18])"
      ]
     },
     "execution_count": 54,
     "metadata": {},
     "output_type": "execute_result"
    }
   ],
   "source": [
    "unique_y = list(set(y))\n",
    "y_note_to_int = dict((note_, number) for number, note_ in enumerate(unique_y)) \n",
    "y_seq=np.array([y_note_to_int[i] for i in y])\n",
    "y_seq"
   ]
  },
  {
   "cell_type": "code",
   "execution_count": 55,
   "metadata": {},
   "outputs": [],
   "source": [
    "from sklearn.model_selection import train_test_split\n",
    "x_tr, x_val, y_tr, y_val = train_test_split(x_seq,y_seq,test_size=0.2,random_state=0)"
   ]
  },
  {
   "cell_type": "code",
   "execution_count": 56,
   "metadata": {},
   "outputs": [
    {
     "name": "stdout",
     "output_type": "stream",
     "text": [
      "Model: \"sequential_1\"\n",
      "_________________________________________________________________\n",
      "Layer (type)                 Output Shape              Param #   \n",
      "=================================================================\n",
      "embedding_1 (Embedding)      (None, 32, 100)           2000      \n",
      "_________________________________________________________________\n",
      "conv1d_1 (Conv1D)            (None, 32, 64)            19264     \n",
      "_________________________________________________________________\n",
      "dropout_1 (Dropout)          (None, 32, 64)            0         \n",
      "_________________________________________________________________\n",
      "max_pooling1d_1 (MaxPooling1 (None, 16, 64)            0         \n",
      "_________________________________________________________________\n",
      "conv1d_2 (Conv1D)            (None, 16, 128)           24704     \n",
      "_________________________________________________________________\n",
      "dropout_2 (Dropout)          (None, 16, 128)           0         \n",
      "_________________________________________________________________\n",
      "max_pooling1d_2 (MaxPooling1 (None, 8, 128)            0         \n",
      "_________________________________________________________________\n",
      "conv1d_3 (Conv1D)            (None, 8, 256)            98560     \n",
      "_________________________________________________________________\n",
      "dropout_3 (Dropout)          (None, 8, 256)            0         \n",
      "_________________________________________________________________\n",
      "max_pooling1d_3 (MaxPooling1 (None, 4, 256)            0         \n",
      "_________________________________________________________________\n",
      "global_max_pooling1d_1 (Glob (None, 256)               0         \n",
      "_________________________________________________________________\n",
      "dense_1 (Dense)              (None, 256)               65792     \n",
      "_________________________________________________________________\n",
      "dense_2 (Dense)              (None, 20)                5140      \n",
      "=================================================================\n",
      "Total params: 215,460\n",
      "Trainable params: 215,460\n",
      "Non-trainable params: 0\n",
      "_________________________________________________________________\n"
     ]
    }
   ],
   "source": [
    "from keras.layers import *\n",
    "from keras.models import *\n",
    "from keras.callbacks import *\n",
    "import keras.backend as K\n",
    "\n",
    "K.clear_session()\n",
    "model = Sequential()\n",
    "    \n",
    "#embedding layer\n",
    "model.add(Embedding(len(unique_x), 100, input_length=32,trainable=True)) \n",
    "\n",
    "model.add(Conv1D(64,3, padding='causal',activation='relu'))\n",
    "model.add(Dropout(0.2))\n",
    "model.add(MaxPool1D(2))\n",
    "    \n",
    "model.add(Conv1D(128,3,activation='relu',dilation_rate=2,padding='causal'))\n",
    "model.add(Dropout(0.2))\n",
    "model.add(MaxPool1D(2))\n",
    "\n",
    "model.add(Conv1D(256,3,activation='relu',dilation_rate=4,padding='causal'))\n",
    "model.add(Dropout(0.2))\n",
    "model.add(MaxPool1D(2))\n",
    "          \n",
    "#model.add(Conv1D(256,5,activation='relu'))    \n",
    "model.add(GlobalMaxPool1D())\n",
    "    \n",
    "model.add(Dense(256, activation='relu'))\n",
    "model.add(Dense(len(unique_y), activation='softmax'))\n",
    "    \n",
    "model.compile(loss='sparse_categorical_crossentropy', optimizer='adam')\n",
    "\n",
    "model.summary()"
   ]
  },
  {
   "cell_type": "code",
   "execution_count": 57,
   "metadata": {},
   "outputs": [],
   "source": [
    "mc=ModelCheckpoint('best_model.h5', monitor='val_loss', mode='min', save_best_only=True,verbose=1)"
   ]
  },
  {
   "cell_type": "code",
   "execution_count": 58,
   "metadata": {},
   "outputs": [
    {
     "name": "stdout",
     "output_type": "stream",
     "text": [
      "Train on 4756 samples, validate on 1189 samples\n",
      "Epoch 1/15\n",
      "4756/4756 [==============================] - 1s 226us/step - loss: 2.1523 - val_loss: 2.0383\n",
      "\n",
      "Epoch 00001: val_loss improved from inf to 2.03831, saving model to best_model.h5\n",
      "Epoch 2/15\n",
      "4756/4756 [==============================] - 1s 180us/step - loss: 1.8639 - val_loss: 1.9804\n",
      "\n",
      "Epoch 00002: val_loss improved from 2.03831 to 1.98036, saving model to best_model.h5\n",
      "Epoch 3/15\n",
      "4756/4756 [==============================] - 1s 177us/step - loss: 1.7916 - val_loss: 1.8801\n",
      "\n",
      "Epoch 00003: val_loss improved from 1.98036 to 1.88011, saving model to best_model.h5\n",
      "Epoch 4/15\n",
      "4756/4756 [==============================] - 1s 184us/step - loss: 1.7236 - val_loss: 1.8836\n",
      "\n",
      "Epoch 00004: val_loss did not improve from 1.88011\n",
      "Epoch 5/15\n",
      "4756/4756 [==============================] - 1s 180us/step - loss: 1.6649 - val_loss: 1.7690\n",
      "\n",
      "Epoch 00005: val_loss improved from 1.88011 to 1.76904, saving model to best_model.h5\n",
      "Epoch 6/15\n",
      "4756/4756 [==============================] - 1s 184us/step - loss: 1.6316 - val_loss: 1.7723\n",
      "\n",
      "Epoch 00006: val_loss did not improve from 1.76904\n",
      "Epoch 7/15\n",
      "4756/4756 [==============================] - 1s 181us/step - loss: 1.5988 - val_loss: 1.6996\n",
      "\n",
      "Epoch 00007: val_loss improved from 1.76904 to 1.69956, saving model to best_model.h5\n",
      "Epoch 8/15\n",
      "4756/4756 [==============================] - 1s 185us/step - loss: 1.5772 - val_loss: 1.6905\n",
      "\n",
      "Epoch 00008: val_loss improved from 1.69956 to 1.69046, saving model to best_model.h5\n",
      "Epoch 9/15\n",
      "4756/4756 [==============================] - 1s 183us/step - loss: 1.5574 - val_loss: 1.6626\n",
      "\n",
      "Epoch 00009: val_loss improved from 1.69046 to 1.66257, saving model to best_model.h5\n",
      "Epoch 10/15\n",
      "4756/4756 [==============================] - 1s 184us/step - loss: 1.5371 - val_loss: 1.7147\n",
      "\n",
      "Epoch 00010: val_loss did not improve from 1.66257\n",
      "Epoch 11/15\n",
      "4756/4756 [==============================] - 1s 185us/step - loss: 1.5228 - val_loss: 1.6602\n",
      "\n",
      "Epoch 00011: val_loss improved from 1.66257 to 1.66025, saving model to best_model.h5\n",
      "Epoch 12/15\n",
      "4756/4756 [==============================] - 1s 189us/step - loss: 1.5309 - val_loss: 1.6686\n",
      "\n",
      "Epoch 00012: val_loss did not improve from 1.66025\n",
      "Epoch 13/15\n",
      "4756/4756 [==============================] - 1s 188us/step - loss: 1.4898 - val_loss: 1.6368\n",
      "\n",
      "Epoch 00013: val_loss improved from 1.66025 to 1.63679, saving model to best_model.h5\n",
      "Epoch 14/15\n",
      "4756/4756 [==============================] - 1s 185us/step - loss: 1.4782 - val_loss: 1.6099\n",
      "\n",
      "Epoch 00014: val_loss improved from 1.63679 to 1.60991, saving model to best_model.h5\n",
      "Epoch 15/15\n",
      "4756/4756 [==============================] - 1s 185us/step - loss: 1.4763 - val_loss: 1.6565\n",
      "\n",
      "Epoch 00015: val_loss did not improve from 1.60991\n"
     ]
    }
   ],
   "source": [
    "history = model.fit(np.array(x_tr),np.array(y_tr),batch_size=128,epochs=15, validation_data=(np.array(x_val),np.array(y_val)),verbose=1, callbacks=[mc])"
   ]
  },
  {
   "cell_type": "code",
   "execution_count": 59,
   "metadata": {},
   "outputs": [],
   "source": [
    "#loading best model\n",
    "from keras.models import load_model\n",
    "model = load_model('best_model.h5')"
   ]
  },
  {
   "cell_type": "code",
   "execution_count": 60,
   "metadata": {},
   "outputs": [
    {
     "name": "stdout",
     "output_type": "stream",
     "text": [
      "[12, 4, 12, 12, 12, 12, 12, 12, 12, 12]\n"
     ]
    }
   ],
   "source": [
    "\n",
    "import random\n",
    "ind = np.random.randint(0,len(x_val)-1)\n",
    "\n",
    "random_music = x_val[ind]\n",
    "\n",
    "predictions=[]\n",
    "for i in range(10):\n",
    "\n",
    "    random_music = random_music.reshape(1,no_of_timesteps)\n",
    "\n",
    "    prob  = model.predict(random_music)[0]\n",
    "    y_pred= np.argmax(prob,axis=0)\n",
    "    predictions.append(y_pred)\n",
    "\n",
    "    random_music = np.insert(random_music[0],len(random_music[0]),y_pred)\n",
    "    random_music = random_music[1:]\n",
    "    \n",
    "print(predictions)"
   ]
  },
  {
   "cell_type": "code",
   "execution_count": 61,
   "metadata": {},
   "outputs": [
    {
     "data": {
      "text/plain": [
       "['42', '38', '42', '42', '42', '42', '42', '42', '42', '42']"
      ]
     },
     "execution_count": 61,
     "metadata": {},
     "output_type": "execute_result"
    }
   ],
   "source": [
    "x_int_to_note = dict((number, note_) for number, note_ in enumerate(unique_x)) \n",
    "predicted_notes = [x_int_to_note[i] for i in predictions]\n",
    "predicted_notes"
   ]
  },
  {
   "cell_type": "code",
   "execution_count": null,
   "metadata": {},
   "outputs": [],
   "source": []
  },
  {
   "cell_type": "code",
   "execution_count": 69,
   "metadata": {},
   "outputs": [
    {
     "name": "stdout",
     "output_type": "stream",
     "text": [
      "42\n",
      "38\n",
      "42\n",
      "42\n",
      "42\n",
      "42\n",
      "42\n",
      "42\n",
      "42\n",
      "42\n",
      "<pretty_midi.pretty_midi.PrettyMIDI object at 0x7fae0c0d4a58>\n"
     ]
    }
   ],
   "source": [
    "import pretty_midi\n",
    "def create_midi(notes):\n",
    "    new_midi_data = pretty_midi.PrettyMIDI()\n",
    "    drum_program = pretty_midi.instrument_name_to_program('SteelDrums')\n",
    "    drum = pretty_midi.Instrument(program=drum_program)\n",
    "    time = 0\n",
    "    step = 0.1\n",
    "    for note_number in notes:\n",
    "        print (note_number)\n",
    "        myNote = pretty_midi.Note(velocity=60, pitch=int(note_number), start=time, end=time+step)\n",
    "        drum.notes.append(myNote)\n",
    "        time += step\n",
    "    new_midi_data.instruments.append(drum)\n",
    "    return new_midi_data\n",
    "\n",
    "new_midi_data = create_midi(predicted_notes)\n",
    "print (new_midi_data)\n",
    "new_midi_data.write('final.mid')"
   ]
  },
  {
   "cell_type": "code",
   "execution_count": null,
   "metadata": {},
   "outputs": [],
   "source": []
  },
  {
   "cell_type": "code",
   "execution_count": null,
   "metadata": {},
   "outputs": [],
   "source": []
  }
 ],
 "metadata": {
  "kernelspec": {
   "display_name": "Python 3",
   "language": "python",
   "name": "python3"
  },
  "language_info": {
   "codemirror_mode": {
    "name": "ipython",
    "version": 3
   },
   "file_extension": ".py",
   "mimetype": "text/x-python",
   "name": "python",
   "nbconvert_exporter": "python",
   "pygments_lexer": "ipython3",
   "version": "3.6.8"
  }
 },
 "nbformat": 4,
 "nbformat_minor": 2
}
