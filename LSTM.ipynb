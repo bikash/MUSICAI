{
 "cells": [
  {
   "cell_type": "code",
   "execution_count": 1,
   "metadata": {},
   "outputs": [],
   "source": [
    "#https://www.analyticsvidhya.com/blog/2020/01/how-to-perform-automatic-music-generation/\n",
    "from music21 import *\n",
    "#for listing down the file names\n",
    "import os\n",
    "import numpy as np\n",
    "from music21.midi import percussion\n",
    "from music21 import pitch"
   ]
  },
  {
   "cell_type": "code",
   "execution_count": 7,
   "metadata": {},
   "outputs": [],
   "source": [
    "#defining function to read MIDI files\n",
    "def read_midi(file):\n",
    "    \n",
    "    print(\"Loading Music File:\",file)\n",
    "    \n",
    "    notes=[]\n",
    "    notes_to_parse = None\n",
    "    \n",
    "    #parsing a midi file\n",
    "    midi = converter.parse(file)\n",
    "  \n",
    "\n",
    "\n",
    "    try: # file has instrument parts\n",
    "        s2 = instrument.partitionByInstrument(midi)\n",
    "        notes_to_parse = s2.parts[0].recurse() \n",
    "    except: # file has notes in a flat structure\n",
    "        notes_to_parse = midi.flat.notes\n",
    "\n",
    " \n",
    "    #finding whether a particular element is note or a chord\n",
    "    for element in notes_to_parse:\n",
    "                \n",
    "        #note\n",
    "        if isinstance(element, note.Note):\n",
    "            midiNumber = element.pitch.midi\n",
    "            if midiNumber>=35 and midiNumber<=82:\n",
    "                notes.append(str(midiNumber))\n",
    "                \n",
    "        #chord\n",
    "        #elif isinstance(element, chord.Chord):\n",
    "        #    notes.append('.'.join(str(n) for n in element.normalOrder))\n",
    "\n",
    "    return np.array(notes)"
   ]
  },
  {
   "cell_type": "code",
   "execution_count": 8,
   "metadata": {},
   "outputs": [
    {
     "name": "stdout",
     "output_type": "stream",
     "text": [
      "Loading Music File: midi_songs/73_neworleans-funk_93_fill_4-4.mid\n",
      "Loading Music File: midi_songs/3_rock_60_fill_4-4.mid\n",
      "Loading Music File: midi_songs/116_rock_95_fill_4-4.mid\n",
      "Loading Music File: midi_songs/135_soul_105_fill_4-4.mid\n",
      "Loading Music File: midi_songs/26_hiphop_67_fill_4-4.mid\n",
      "Loading Music File: midi_songs/87_neworleans-funk_93_fill_4-4.mid\n",
      "Loading Music File: midi_songs/110_rock_95_fill_4-4.mid\n",
      "Loading Music File: midi_songs/79_neworleans-funk_93_fill_4-4.mid\n",
      "Loading Music File: midi_songs/90_neworleans-funk_93_fill_4-4.mid\n",
      "Loading Music File: midi_songs/22_pop-soft_83_beat_4-4.mid\n",
      "Loading Music File: midi_songs/133_soul_105_beat_4-4.mid\n",
      "Loading Music File: midi_songs/149_soul_105_fill_4-4.mid\n",
      "Loading Music File: midi_songs/2_rock_60_fill_4-4.mid\n",
      "Loading Music File: midi_songs/36_hiphop_67_fill_4-4.mid\n",
      "Loading Music File: midi_songs/55_funk_112_fill_4-4.mid\n",
      "Loading Music File: midi_songs/137_soul_105_fill_4-4.mid\n",
      "Loading Music File: midi_songs/125_rock_93_fill_4-4.mid\n",
      "Loading Music File: midi_songs/77_neworleans-funk_93_fill_4-4.mid\n",
      "Loading Music File: midi_songs/19_pop-soft_83_fill_4-4.mid\n",
      "Loading Music File: midi_songs/102_hiphop_70_fill_4-4.mid\n",
      "Loading Music File: midi_songs/15_pop-soft_83_fill_4-4.mid\n",
      "Loading Music File: midi_songs/43_rock-indie_63_fill_4-4.mid\n",
      "Loading Music File: midi_songs/103_hiphop_70_fill_4-4.mid\n",
      "Loading Music File: midi_songs/9_rock_60_fill_4-4.mid\n",
      "Loading Music File: midi_songs/86_neworleans-funk_93_fill_4-4.mid\n",
      "Loading Music File: midi_songs/48_funk_112_beat_4-4.mid\n",
      "Loading Music File: midi_songs/76_neworleans-funk_93_fill_4-4.mid\n",
      "Loading Music File: midi_songs/147_soul_105_fill_4-4.mid\n",
      "Loading Music File: midi_songs/32_hiphop_67_fill_4-4.mid\n",
      "Loading Music File: midi_songs/89_neworleans-funk_93_fill_4-4.mid\n",
      "Loading Music File: midi_songs/81_neworleans-funk_93_fill_4-4.mid\n",
      "Loading Music File: midi_songs/126_rock_93_fill_4-4.mid\n",
      "Loading Music File: midi_songs/142_soul_105_fill_4-4.mid\n",
      "Loading Music File: midi_songs/61_funk_112_fill_4-4.mid\n",
      "Loading Music File: midi_songs/140_soul_105_fill_4-4.mid\n",
      "Loading Music File: midi_songs/52_funk_112_fill_4-4.mid\n",
      "Loading Music File: midi_songs/64_funk_112_beat_4-4.mid\n",
      "Loading Music File: midi_songs/57_funk_112_fill_4-4.mid\n",
      "Loading Music File: midi_songs/144_soul_105_fill_4-4.mid\n",
      "Loading Music File: midi_songs/17_pop-soft_83_fill_4-4.mid\n",
      "Loading Music File: midi_songs/24_hiphop_67_beat_4-4.mid\n",
      "Loading Music File: midi_songs/5_rock_60_fill_4-4.mid\n",
      "Loading Music File: midi_songs/67_neworleans-funk_93_beat_4-4.mid\n",
      "Loading Music File: midi_songs/14_pop-soft_83_fill_4-4.mid\n",
      "Loading Music File: midi_songs/119_rock_95_beat_4-4.mid\n",
      "Loading Music File: midi_songs/112_rock_95_fill_4-4.mid\n",
      "Loading Music File: midi_songs/29_hiphop_67_fill_4-4.mid\n",
      "Loading Music File: midi_songs/47_funk_112_beat_4-4.mid\n",
      "Loading Music File: midi_songs/70_neworleans-funk_93_fill_4-4.mid\n",
      "Loading Music File: midi_songs/100_hiphop_70_fill_4-4.mid\n",
      "Loading Music File: midi_songs/49_funk_112_beat_4-4.mid\n",
      "Loading Music File: midi_songs/51_funk_112_fill_4-4.mid\n",
      "Loading Music File: midi_songs/146_soul_105_fill_4-4.mid\n",
      "Loading Music File: midi_songs/113_rock_95_fill_4-4.mid\n",
      "Loading Music File: midi_songs/39_rock-indie_63_beat_4-4.mid\n",
      "Loading Music File: midi_songs/153_soul_98_fill_4-4.mid\n",
      "Loading Music File: midi_songs/139_soul_105_fill_4-4.mid\n",
      "Loading Music File: midi_songs/62_funk_112_fill_4-4.mid\n",
      "Loading Music File: midi_songs/120_rock_93_beat_4-4.mid\n",
      "Loading Music File: midi_songs/60_funk_112_fill_4-4.mid\n",
      "Loading Music File: midi_songs/50_funk_112_fill_4-4.mid\n",
      "Loading Music File: midi_songs/84_neworleans-funk_93_fill_4-4.mid\n",
      "Loading Music File: midi_songs/114_rock_95_fill_4-4.mid\n",
      "Loading Music File: midi_songs/7_rock_60_fill_4-4.mid\n",
      "Loading Music File: midi_songs/101_hiphop_70_fill_4-4.mid\n",
      "Loading Music File: midi_songs/143_soul_105_fill_4-4.mid\n",
      "Loading Music File: midi_songs/59_funk_112_fill_4-4.mid\n",
      "Loading Music File: midi_songs/42_rock-indie_63_fill_4-4.mid\n",
      "Loading Music File: midi_songs/108_rock_95_beat_4-4.mid\n",
      "Loading Music File: midi_songs/111_rock_95_fill_4-4.mid\n",
      "Loading Music File: midi_songs/148_soul_105_fill_4-4.mid\n",
      "Loading Music File: midi_songs/16_pop-soft_83_fill_4-4.mid\n",
      "Loading Music File: midi_songs/156_soul_98_fill_4-4.mid\n",
      "Loading Music File: midi_songs/1_rock_60_beat_4-4.mid\n",
      "Loading Music File: midi_songs/35_hiphop_67_fill_4-4.mid\n",
      "Loading Music File: midi_songs/97_hiphop_70_fill_4-4.mid\n",
      "Loading Music File: midi_songs/91_neworleans-funk_93_beat_4-4.mid\n",
      "Loading Music File: midi_songs/99_hiphop_70_fill_4-4.mid\n",
      "Loading Music File: midi_songs/158_soul_98_fill_4-4.mid\n",
      "Loading Music File: midi_songs/25_hiphop_67_fill_4-4.mid\n",
      "Loading Music File: midi_songs/117_rock_95_beat_4-4.mid\n",
      "Loading Music File: midi_songs/154_soul_98_fill_4-4.mid\n",
      "Loading Music File: midi_songs/80_neworleans-funk_93_fill_4-4.mid\n",
      "Loading Music File: midi_songs/104_hiphop_70_fill_4-4.mid\n",
      "Loading Music File: midi_songs/124_rock_93_fill_4-4.mid\n",
      "Loading Music File: midi_songs/30_hiphop_67_fill_4-4.mid\n",
      "Loading Music File: midi_songs/136_soul_105_fill_4-4.mid\n",
      "Loading Music File: midi_songs/33_hiphop_67_fill_4-4.mid\n",
      "Loading Music File: midi_songs/151_soul_98_beat_4-4.mid\n",
      "Loading Music File: midi_songs/127_rock_93_fill_4-4.mid\n",
      "Loading Music File: midi_songs/82_neworleans-funk_93_fill_4-4.mid\n",
      "Loading Music File: midi_songs/129_rock_93_beat_4-4.mid\n",
      "Loading Music File: midi_songs/93_hiphop_70_fill_4-4.mid\n",
      "Loading Music File: midi_songs/58_funk_112_fill_4-4.mid\n",
      "Loading Music File: midi_songs/37_hiphop_67_fill_4-4.mid\n",
      "Loading Music File: midi_songs/107_hiphop_70_fill_4-4.mid\n",
      "Loading Music File: midi_songs/92_hiphop_70_beat_4-4.mid\n",
      "Loading Music File: midi_songs/65_funk_112_beat_4-4.mid\n",
      "Loading Music File: midi_songs/75_neworleans-funk_93_fill_4-4.mid\n",
      "Loading Music File: midi_songs/41_rock-indie_63_fill_4-4.mid\n",
      "Loading Music File: midi_songs/20_pop-soft_83_fill_4-4.mid\n",
      "Loading Music File: midi_songs/63_funk_112_fill_4-4.mid\n",
      "Loading Music File: midi_songs/18_pop-soft_83_fill_4-4.mid\n",
      "Loading Music File: midi_songs/121_rock_93_fill_4-4.mid\n",
      "Loading Music File: midi_songs/141_soul_105_fill_4-4.mid\n",
      "Loading Music File: midi_songs/8_rock_60_fill_4-4.mid\n",
      "Loading Music File: midi_songs/95_hiphop_70_fill_4-4.mid\n",
      "Loading Music File: midi_songs/159_soul_98_beat_4-4.mid\n",
      "Loading Music File: midi_songs/96_hiphop_70_fill_4-4.mid\n",
      "Loading Music File: midi_songs/21_pop-soft_83_fill_4-4.mid\n",
      "Loading Music File: midi_songs/66_funk_112_fill_4-4.mid\n",
      "Loading Music File: midi_songs/118_rock_95_fill_4-4.mid\n",
      "Loading Music File: midi_songs/54_funk_112_fill_4-4.mid\n",
      "Loading Music File: midi_songs/132_soul_105_beat_4-4.mid\n",
      "Loading Music File: midi_songs/69_neworleans-funk_93_fill_4-4.mid\n",
      "Loading Music File: midi_songs/28_hiphop_67_fill_4-4.mid\n",
      "Loading Music File: midi_songs/105_hiphop_70_fill_4-4.mid\n",
      "Loading Music File: midi_songs/128_rock_93_fill_4-4.mid\n",
      "Loading Music File: midi_songs/53_funk_112_fill_4-4.mid\n",
      "Loading Music File: midi_songs/34_hiphop_67_fill_4-4.mid\n",
      "Loading Music File: midi_songs/38_hiphop_67_beat_4-4.mid\n",
      "Loading Music File: midi_songs/83_neworleans-funk_93_fill_4-4.mid\n",
      "Loading Music File: midi_songs/27_hiphop_67_fill_4-4.mid\n",
      "Loading Music File: midi_songs/88_neworleans-funk_93_fill_4-4.mid\n",
      "Loading Music File: midi_songs/45_rock-indie_63_fill_4-4.mid\n",
      "Loading Music File: midi_songs/106_hiphop_70_beat_4-4.mid\n",
      "Loading Music File: midi_songs/131_soul_105_beat_4-4.mid\n",
      "Loading Music File: midi_songs/46_rock-indie_63_beat_4-4.mid\n",
      "Loading Music File: midi_songs/6_rock_60_fill_4-4.mid\n",
      "Loading Music File: midi_songs/115_rock_95_fill_4-4.mid\n",
      "Loading Music File: midi_songs/145_soul_105_fill_4-4.mid\n",
      "Loading Music File: midi_songs/12_pop-soft_83_fill_4-4.mid\n",
      "Loading Music File: midi_songs/44_rock-indie_63_fill_4-4.mid\n",
      "Loading Music File: midi_songs/13_pop-soft_83_fill_4-4.mid\n",
      "Loading Music File: midi_songs/78_neworleans-funk_93_fill_4-4.mid\n",
      "Loading Music File: midi_songs/74_neworleans-funk_93_fill_4-4.mid\n",
      "Loading Music File: midi_songs/98_hiphop_70_fill_4-4.mid\n",
      "Loading Music File: midi_songs/4_rock_60_fill_4-4.mid\n",
      "Loading Music File: midi_songs/23_pop-soft_83_beat_4-4.mid\n",
      "Loading Music File: midi_songs/157_soul_98_fill_4-4.mid\n",
      "Loading Music File: midi_songs/122_rock_93_fill_4-4.mid\n",
      "Loading Music File: midi_songs/130_soul_105_beat_4-4.mid\n",
      "Loading Music File: midi_songs/40_rock-indie_63_fill_4-4.mid\n",
      "Loading Music File: midi_songs/155_soul_98_fill_4-4.mid\n",
      "Loading Music File: midi_songs/71_neworleans-funk_93_fill_4-4.mid\n",
      "Loading Music File: midi_songs/109_rock_95_beat_4-4.mid\n",
      "Loading Music File: midi_songs/68_neworleans-funk_93_fill_4-4.mid\n",
      "Loading Music File: midi_songs/138_soul_105_fill_4-4.mid\n",
      "Loading Music File: midi_songs/31_hiphop_67_fill_4-4.mid\n",
      "Loading Music File: midi_songs/94_hiphop_70_fill_4-4.mid\n",
      "Loading Music File: midi_songs/134_soul_105_fill_4-4.mid\n",
      "Loading Music File: midi_songs/72_neworleans-funk_93_fill_4-4.mid\n",
      "Loading Music File: midi_songs/152_soul_98_fill_4-4.mid\n",
      "Loading Music File: midi_songs/123_rock_93_fill_4-4.mid\n",
      "Loading Music File: midi_songs/85_neworleans-funk_93_fill_4-4.mid\n",
      "Loading Music File: midi_songs/10_rock_60_beat_4-4.mid\n",
      "Loading Music File: midi_songs/150_soul_105_beat_4-4.mid\n",
      "Loading Music File: midi_songs/56_funk_112_fill_4-4.mid\n",
      "Loading Music File: midi_songs/11_pop-soft_83_beat_4-4.mid\n"
     ]
    }
   ],
   "source": [
    "#specify the path\n",
    "path='midi_songs/'\n",
    "\n",
    "#read all the filenames\n",
    "files=[i for i in os.listdir(path) if i.endswith(\".mid\")]\n",
    "\n",
    "#reading each midi file\n",
    "notes_array = np.array([read_midi(path+i) for i in files])"
   ]
  },
  {
   "cell_type": "code",
   "execution_count": 9,
   "metadata": {},
   "outputs": [
    {
     "name": "stdout",
     "output_type": "stream",
     "text": [
      "18\n",
      "['58', '37', '51', '55', '48', '42', '46', '53', '47', '49', '50', '36', '40', '44', '45', '43', '59', '38']\n"
     ]
    }
   ],
   "source": [
    "#converting 2D array into 1D array\n",
    "notes_ = [element for note_ in notes_array for element in note_]\n",
    "\n",
    "#No. of unique notes\n",
    "unique_notes = list(set(notes_))\n",
    "print(len(unique_notes))\n",
    "print (unique_notes)"
   ]
  },
  {
   "cell_type": "code",
   "execution_count": 10,
   "metadata": {},
   "outputs": [
    {
     "data": {
      "text/plain": [
       "(array([13.,  3.,  0.,  0.,  0.,  1.,  0.,  0.,  0.,  1.]),\n",
       " array([   6. ,  336.2,  666.4,  996.6, 1326.8, 1657. , 1987.2, 2317.4,\n",
       "        2647.6, 2977.8, 3308. ]),\n",
       " <a list of 10 Patch objects>)"
      ]
     },
     "execution_count": 10,
     "metadata": {},
     "output_type": "execute_result"
    },
    {
     "data": {
      "image/png": "[encoded data removed]",
      "text/plain": [
       "<Figure size 360x360 with 1 Axes>"
      ]
     },
     "metadata": {
      "image/png": {
       "height": 304,
       "width": 314
      },
      "needs_background": "light"
     },
     "output_type": "display_data"
    }
   ],
   "source": [
    "#importing library\n",
    "from collections import Counter\n",
    "\n",
    "#computing frequency of each note\n",
    "freq = dict(Counter(notes_))\n",
    "\n",
    "#library for visualiation\n",
    "import matplotlib.pyplot as plt\n",
    "\n",
    "#consider only the frequencies\n",
    "no=[count for _,count in freq.items()]\n",
    "\n",
    "#set the figure size\n",
    "plt.figure(figsize=(5,5))\n",
    "\n",
    "#plot\n",
    "plt.hist(no)"
   ]
  },
  {
   "cell_type": "code",
   "execution_count": 11,
   "metadata": {},
   "outputs": [
    {
     "name": "stdout",
     "output_type": "stream",
     "text": [
      "18\n"
     ]
    }
   ],
   "source": [
    "frequent_notes = [note_ for note_, count in freq.items() if count>=2]\n",
    "print(len(frequent_notes))"
   ]
  },
  {
   "cell_type": "code",
   "execution_count": 13,
   "metadata": {},
   "outputs": [
    {
     "data": {
      "text/plain": [
       "array([list(['48', '48', '50', '48', '48', '48', '48', '45', '45', '47', '45', '47', '45', '43', '43', '43', '43', '43', '43', '58', '43', '38', '38', '38', '38', '38', '38', '47', '38', '48', '38', '47', '38', '38', '40', '38', '38', '47', '38', '43']),\n",
       "       list(['38', '38', '38', '38']),\n",
       "       list(['42', '42', '36', '42', '42', '42', '42']),\n",
       "       list(['50', '38', '38', '40', '38', '47', '48', '38', '38', '47', '48', '40', '38', '43', '43']),\n",
       "       list(['38', '48', '48', '38', '38', '40', '45', '48', '45', '48', '38', '38', '43', '43']),\n",
       "       list(['40', '40', '40', '38', '50', '38', '40', '38', '38', '40', '40', '45', '47', '47', '38', '50', '38', '38', '40', '40', '38', '38', '48', '40', '40', '37', '40', '47', '38', '40', '48', '47', '43', '43', '58']),\n",
       "       list(['42', '42', '42', '42', '42', '38', '38', '40', '50', '58']),\n",
       "       list(['38', '38', '40', '38', '40', '50', '45', '47', '38', '47', '38', '38', '50', '48', '38', '38']),\n",
       "       list(['38', '44', '38', '38', '38', '38', '38', '38', '48', '48', '43', '43', '43', '43', '43', '38', '38', '38', '38', '38', '38', '40', '38', '38', '38', '38', '40', '38', '40', '50', '47', '38', '43']),\n",
       "       list(['51', '36', '51', '36', '36', '36', '36', '36', '44', '51', '36', '36', '36', '38', '45', '45', '43', '43', '36', '36', '36', '51', '58', '38', '40', '38', '40', '40', '36', '36', '36', '51', '38', '38', '38', '38', '40', '38', '38', '45', '45', '43', '43', '36', '51', '36', '36', '51', '38', '38', '38', '40', '38', '50', '38', '38', '38', '38', '43', '43']),\n",
       "       list(['44', '38', '40', '38', '40', '38', '38', '42', '36', '38', '38', '38', '38', '38', '36', '38', '36', '38', '38', '38', '38', '38', '38', '38', '42', '38', '38', '38', '40', '38', '55', '42', '38', '42', '38', '42', '38', '42', '38', '36', '42', '38', '38', '38', '37', '38', '44', '38', '38', '38', '38', '36', '38', '42', '38', '36', '42', '38', '36', '42', '38', '42', '38', '36', '38', '40', '46', '36', '38', '44', '38', '51', '38', '51', '44', '38', '51', '44', '38', '38', '38', '38', '36', '38', '38', '38', '38', '40', '38', '38', '38', '38', '38', '51', '38', '38', '38', '53', '36', '38', '38', '38', '51', '38', '38', '38', '38', '38', '51', '38', '38', '38', '38', '51', '38', '51', '38', '38', '53', '38', '38', '38', '38', '38', '38', '40', '38', '38', '38', '38', '38', '38', '38', '38', '38', '36', '42', '38', '38', '38', '38', '38']),\n",
       "       list(['47', '38', '38', '40', '38', '38', '40', '38', '50', '48', '40', '38', '47', '38', '38', '38', '38']),\n",
       "       list(['44', '38', '38', '48', '48', '45', '43', '43']),\n",
       "       list(['38', '38', '38', '40', '38', '38', '38', '38', '40', '48', '38', '38', '38', '48', '45', '51', '45', '45', '45', '45', '47', '45', '45', '47', '45', '43', '43', '43', '43', '43', '43', '43', '43', '43', '43']),\n",
       "       list(['38', '38', '38', '40', '38', '40', '38', '45', '38', '58', '38', '38', '38']),\n",
       "       list(['38', '50', '38', '38', '40', '38', '47', '48', '38', '38', '43']),\n",
       "       list(['38', '38', '38', '38', '38', '38', '38', '50', '48', '48', '50', '48', '48', '48', '50', '48', '45', '45', '45', '45', '47', '45', '43', '43', '43']),\n",
       "       list(['38', '38', '38', '40', '38', '38', '50', '48', '45', '45', '47', '38', '38', '38', '38', '38', '38', '38', '43', '43', '43']),\n",
       "       list(['43', '44']),\n",
       "       list(['42', '42', '42', '42', '42', '42', '36', '42', '42', '42', '42', '42', '42', '42', '42', '42', '42', '36', '42', '42', '42']),\n",
       "       list(['44']), list(['38', '43', '48', '45', '43', '43']),\n",
       "       list(['42', '42', '42', '42', '42', '42', '38', '42', '38', '38']),\n",
       "       list([]),\n",
       "       list(['40', '40', '40', '38', '38', '38', '40', '38', '38', '38', '38', '38', '38', '38', '40', '40', '40', '36', '38', '38', '38', '38', '40', '40', '50', '38', '40', '40', '40', '38', '47', '38', '38', '38', '58']),\n",
       "       list(['42', '42', '38', '42', '38', '42', '38', '42', '38', '38', '38', '38', '38', '38', '38', '42', '42', '38', '42', '38', '42', '38', '42', '38', '42', '38', '38', '38', '38', '38', '38', '42', '42', '38', '42', '38', '42', '38', '46', '38', '44', '42', '38', '38', '38', '38', '40', '38', '40']),\n",
       "       list(['38', '44', '38', '38', '38', '38', '40', '38', '40', '38', '38', '44', '38', '38', '38', '40', '40', '43', '58', '36', '59']),\n",
       "       list(['38', '38', '38', '38', '48', '38', '48']),\n",
       "       list(['38', '38', '43', '43', '36', '36', '43', '38', '38', '45', '48', '36', '36', '47', '38', '38', '38', '38', '38', '48', '48', '36', '36', '38', '40', '38', '38', '38', '38', '43', '43']),\n",
       "       list(['40', '38', '36', '48', '38', '36', '50', '38', '36', '38', '38', '38', '40', '38', '38', '38', '40', '38', '43', '50', '43', '37', '38', '38', '40', '38', '38', '38', '40', '38', '38', '38', '47', '38', '38', '50', '47', '38', '38', '44']),\n",
       "       list(['38', '38', '40', '38', '38', '50', '38', '38', '38', '38', '40', '38', '40', '38', '38', '38', '47', '38', '48', '43']),\n",
       "       list(['38', '38', '38', '38', '38', '38', '38', '38', '38', '38', '38', '38', '38', '38', '38', '38', '40', '38', '38', '58']),\n",
       "       list(['58', '38', '58', '38', '58', '40', '40', '50', '47', '38', '40', '48', '47', '38', '58', '43']),\n",
       "       list(['40', '38', '38', '50', '38', '40', '38', '37', '40', '37', '38', '38', '47', '38', '50', '38', '38', '37', '40', '40', '38', '38', '38', '38', '38', '40', '38', '50', '38', '38', '38', '38', '38', '38', '43']),\n",
       "       list(['50', '38', '38', '38', '38', '40', '38', '50', '38', '38', '47', '38', '40', '48', '43']),\n",
       "       list(['38', '38', '38', '38', '40', '38', '42', '42', '40', '38', '38', '38']),\n",
       "       list(['44', '38', '38', '38', '38', '38', '42', '42', '38', '42', '38', '42', '38', '42', '38', '42', '38', '42', '38', '42', '38', '42', '38', '42', '38', '42', '38', '42', '38', '42', '38', '42', '38', '38', '38', '38', '46', '42', '38', '42', '38', '38', '38', '38', '38', '38', '38', '38', '38', '40', '38', '38', '38', '38', '48', '43', '43', '42', '38', '42', '38', '36', '46', '42', '38', '42', '38', '42', '38', '42', '38', '42', '38', '42', '38', '42', '38', '38', '42', '38', '38', '38', '38', '40', '38', '38', '38', '40', '38', '47', '47', '38', '48', '38', '38', '38', '43', '42', '38', '42', '38', '42', '38', '38', '42', '38', '42', '38', '42', '38', '38', '38', '42', '42', '38', '42', '38', '38', '38', '38', '36', '36', '42', '42', '38', '40', '38', '38', '40', '38', '40']),\n",
       "       list(['40', '40', '50', '38', '40', '48', '50', '47', '47', '38', '48', '48', '40', '47', '38', '38', '40', '38', '43', '38', '37', '40', '38', '40', '38', '38', '38', '45', '45', '43', '43']),\n",
       "       list(['40', '36', '48', '36', '36', '40', '38', '40', '47', '38', '58', '36']),\n",
       "       list(['38', '38', '40', '38', '38', '48', '38', '40', '45', '43', '43']),\n",
       "       list(['42', '42', '42', '42', '42', '42', '42', '42', '42', '42', '36', '42', '42', '42', '42', '42', '42', '42', '42', '42', '42', '42', '42', '42', '42', '42', '42', '42', '42', '42', '42', '42', '42', '42', '42', '42', '38', '38', '38', '40', '36', '38', '38', '38', '36', '36', '50', '38', '38', '38', '47', '38', '44', '38', '38', '38', '43', '43', '42', '42', '42', '42', '42', '42', '42', '42', '42', '42', '42', '42', '42', '42', '42', '42', '42', '42', '42', '42', '42', '42', '42', '46', '36', '42', '42', '42', '42', '42', '42', '42', '42', '42', '42', '42', '42', '42', '42', '42', '42', '42', '42', '42', '36', '42', '42', '42', '42', '42', '42', '42', '42', '42', '42', '42', '42', '38', '42', '42', '38', '42', '42', '42', '42', '42', '42', '38', '38', '38', '38', '42', '36', '42', '42', '42', '42', '42', '38', '42', '42', '42', '42', '42', '42', '42', '42', '42', '42', '42', '42', '42', '38', '43', '38', '38', '43', '38', '38', '38', '38', '43', '43', '42', '42', '42', '38', '42', '42', '42', '42', '42', '42', '42', '42', '42', '42', '42', '42', '42', '42', '42', '42', '36', '37', '43', '43']),\n",
       "       list(['38', '48', '38', '38', '38', '43', '43', '36']),\n",
       "       list(['36', '38', '44', '38', '36', '38', '38', '38', '38', '44', '38', '38', '38', '44', '38', '38', '36', '38', '38', '38', '38', '44', '38', '38', '36', '38', '38', '38', '44', '38', '38', '38', '44', '38', '38', '38', '38', '36', '38', '38', '38', '38', '44', '38', '38', '38', '36', '38', '44', '38', '38', '38', '38', '38', '44', '38', '38', '36', '38', '38', '38', '38', '38', '36', '38', '38', '38', '38', '38', '38', '44', '38', '38', '38', '38', '36', '38', '38', '36', '38', '38', '38', '38', '44', '38', '38', '38', '44', '38', '38', '38', '36', '38', '38', '38', '44', '38', '38', '38', '38', '36', '38', '44', '38', '36', '38', '38', '38', '38', '44', '38', '38', '36', '38', '38', '36', '38', '38', '38', '38', '38', '38', '38', '38', '38', '36', '38', '44', '38', '36', '38', '38', '44', '38', '38', '36', '38', '38', '38', '38', '38', '38', '38', '38', '44', '38', '36', '38', '38', '38', '36', '38', '44', '38', '38', '38', '38', '38', '36', '44', '38', '38', '38', '44', '38', '36', '38', '38', '38', '38', '38', '40', '38', '38', '44', '40', '38', '38', '38', '38', '40', '38', '38', '44', '38', '38', '38', '38', '38', '38', '38', '38', '36', '38', '36', '38', '38', '44', '38', '38', '36', '38', '38', '38', '38', '38', '36', '38', '38', '38', '38', '38', '38', '38', '38', '38', '38', '43', '36', '58', '38', '38', '40', '38', '48', '47', '38', '48', '50', '43', '58', '38', '38', '40', '38', '38', '38', '44', '38', '38', '38', '36', '38', '44', '38', '38', '38', '38', '38', '38', '38', '44', '38', '38', '38', '44', '38', '36', '38', '36', '38', '38', '38', '44', '38', '38', '38', '38', '38', '38', '38', '38', '38', '36', '38', '38', '36', '38', '38', '38', '38', '38', '38', '38', '38', '36', '38', '38', '38', '36', '38', '50', '38', '38', '38', '43', '43', '38', '36', '38', '38', '38', '44', '38', '38', '36', '38', '38', '38', '36', '38', '38', '38', '38', '44', '38', '36', '38', '38', '38', '38', '38', '40', '38', '44', '40', '38', '38', '38', '38', '38', '38', '38', '38', '44', '38', '36', '38', '40', '38', '38', '40', '38', '38', '38', '38', '48', '38', '44', '38', '40', '40', '40', '38', '38', '38', '38', '38', '40', '43', '58', '43', '44', '58', '38', '38', '38', '38', '36', '38', '38', '38', '38', '38', '38', '38', '38', '38', '38', '38', '36', '38', '44', '38', '36', '38', '38', '38', '38', '38', '38', '38', '38', '38', '38', '38', '38', '38', '38', '38', '38', '38', '44', '38', '38', '37', '38', '38', '38', '38', '38', '38', '38', '40', '38', '38', '40', '38', '44', '38', '38', '38', '36', '38', '40', '38', '38', '38', '36', '38', '38', '38', '44', '38', '38', '38', '38', '36', '38', '38', '48', '36', '50', '38', '38', '44', '38', '40', '38', '40', '48', '36', '38', '38', '38', '38', '38', '38', '38', '38', '38', '38', '38', '40', '38', '38', '40', '40', '38', '38', '40', '38', '50', '47', '47', '38', '38', '40', '38', '36', '38', '38', '38', '38', '38', '38', '38', '38', '38', '38', '44', '38', '40', '49', '44', '38', '38', '38', '36', '38', '38', '44', '38', '36', '40', '38', '38', '38', '40', '44', '43', '43', '44', '40', '38', '36', '38', '38', '38', '44', '38', '38', '38', '38', '38', '38', '38', '38', '38', '58', '36', '40', '38', '38', '40', '58', '38', '38', '38', '38', '38', '38', '36', '38', '38', '47', '47', '47', '47', '38', '48', '38', '50', '38', '40', '38', '38', '38', '38', '40', '50', '36', '38', '38', '38', '38', '38', '38', '38', '40', '36', '38', '38', '36', '38', '38', '38', '38', '38', '38', '38', '38', '38', '38', '38', '40', '38', '48', '38', '38', '40', '38', '40', '38', '36', '44', '38', '38', '38', '38', '38', '38', '38', '38', '38', '38', '44', '38', '36', '38', '38', '38', '38', '38', '38', '38', '38', '38', '38', '38', '38', '36', '38', '38', '44', '38', '38', '38', '38', '38', '38', '36', '38', '38', '38', '36', '38', '38', '44', '38', '36', '38', '38', '38', '36', '43', '43', '38', '38', '38', '38', '38', '36', '38', '38', '48', '38', '45', '43', '44', '38', '38', '38', '38', '38', '38', '38', '38', '38', '36', '38', '38', '38', '38', '38', '38', '38', '38', '38', '36', '38', '38', '38', '44', '38', '38', '38', '44', '38', '38', '38', '38', '38', '36', '38', '38', '38', '38', '36', '38', '38', '38', '38', '38', '38', '38', '38', '43', '43', '44', '43', '38', '38', '38', '38', '38', '48', '44', '48', '45', '45', '43']),\n",
       "       list(['38', '38', '38', '44', '43', '43']),\n",
       "       list(['42', '42', '36', '42', '38', '42', '42', '42', '42', '42', '38', '42', '42', '42', '38', '42', '42', '42', '42', '42', '38', '42', '42', '38', '42', '42', '42', '42', '38', '42', '42', '38', '40', '42', '46', '38', '40', '42', '36', '42', '40', '42', '42', '42', '42', '40', '42', '46', '42', '40', '42', '38', '40', '50', '38', '47', '36', '42', '36', '42', '40', '42', '42', '42', '42', '42', '40', '42', '42', '42', '40', '42', '40', '36', '40', '36', '40', '36', '44', '38', '38', '38', '38', '40']),\n",
       "       list(['36', '38', '36', '38', '36', '48', '36', '38', '38', '40', '48', '58']),\n",
       "       list([]),\n",
       "       list(['38', '42', '42', '38', '42', '38', '42', '38', '42', '38', '42', '38', '42', '38', '42', '38', '42', '38', '42', '38', '42', '38', '42', '38', '42', '38', '42', '42', '42', '42', '42', '42', '38', '42', '38', '42', '38', '42', '38', '42', '38', '46', '38', '38', '38', '42', '38', '42', '38', '42', '38', '42', '38', '42', '38', '38', '44', '38', '38', '38', '38', '42', '38', '42', '42', '38', '38', '42', '38', '42', '38', '42', '38', '42', '38', '42', '38', '42', '38', '42', '38', '42', '38', '42', '38', '42', '38', '42', '38', '42', '38', '42', '38', '42', '38', '42', '38', '42', '38', '42', '38', '42', '38', '42', '38', '42', '38', '38', '42', '38', '42', '38', '38', '36', '42', '36', '42', '38', '42', '38', '38', '36', '42', '42', '38', '42', '38', '42', '38', '42', '38', '38', '38', '38', '37', '42', '38', '38', '38', '40', '37', '38', '38', '42', '38', '38', '36', '42', '38', '36', '42', '37', '42', '38', '42', '38', '38', '38', '37', '42', '42', '38', '42', '38', '42', '37', '42', '38', '46', '38', '37', '38', '38', '42', '38', '40', '38', '36', '42', '42', '37', '42', '38', '42', '38', '38', '38', '38', '38', '42', '38', '40', '38', '42', '38', '38', '38', '40', '37', '38', '37', '42', '42', '38', '38', '42', '37', '38', '42', '37', '38', '38', '38', '38', '38', '42', '42', '38', '40', '42', '38', '42', '37', '38', '38', '38', '38', '37', '42', '42', '38', '38', '37', '38', '42', '37', '38', '38', '37', '38', '38', '42', '42', '38', '37', '42', '38', '42', '37', '38', '44', '38', '40', '40', '38', '38', '42', '38', '38', '38', '42', '38', '38', '38', '38', '38', '38', '38', '42', '42', '38', '42', '37', '42', '38', '42', '38', '38', '38', '44', '38', '40', '38', '38', '42', '38', '42', '37', '38', '42', '38', '38', '46', '38', '37', '38', '38', '38', '38', '38', '38', '38', '40', '36', '42', '38', '38', '36', '36', '42', '37', '44', '38', '38', '40', '37', '38', '43', '43']),\n",
       "       list(['48', '48', '44', '45', '47', '45', '45', '43', '48', '48', '45', '48', '44', '45', '45', '48', '48', '44', '45', '43', '43', '43', '43', '43', '43', '43', '43', '43']),\n",
       "       list(['40', '38', '50', '48', '36', '36', '40', '38', '40', '48', '47', '48', '45', '36', '36', '47', '38', '38', '40', '40', '38', '40', '38', '48', '48', '38', '48', '47', '48', '38', '55']),\n",
       "       list(['42', '38', '42', '38', '42', '38', '42', '38', '42', '38', '42', '38', '42', '38', '42', '38', '42', '38', '42', '38', '42', '38', '42', '38', '42', '38', '42', '38', '42', '38', '42', '38', '42', '38', '42', '38', '42', '38', '42', '38', '42', '38', '42', '38', '42', '38', '38', '38', '38', '38', '42', '38', '42', '38', '42', '38', '42', '38', '42', '38', '42', '38', '42', '38', '42', '38', '42', '38', '42', '38', '42', '38', '38', '38', '38', '38', '42', '38', '42', '38', '42', '38', '42', '38', '42', '38', '42', '38', '42', '38', '42', '38', '42', '38', '42', '38', '38', '38', '38', '38', '38', '38', '38', '36', '36']),\n",
       "       list(['38', '38', '48', '38', '38', '48', '43', '43']),\n",
       "       list(['38', '38', '38', '38', '38', '38', '38', '37', '40', '48', '38', '37', '48', '47', '38', '40', '47', '38', '48', '43', '58']),\n",
       "       list(['42', '42', '42', '38', '38', '38', '50', '58']),\n",
       "       list(['42', '42', '42', '42', '42', '42', '42', '42', '42', '42', '42', '42', '42', '42', '42', '42', '42', '42', '42', '42', '42', '42', '42', '42', '42', '42', '42', '42', '42', '42', '42', '42', '42', '42', '42', '42', '42', '42', '42', '42', '42', '42', '42', '42', '42', '42', '42', '42', '42', '42', '42', '42', '42', '42', '42', '42', '42', '42', '42', '42', '42', '42', '42', '42', '42', '42', '42', '42', '42', '42', '42', '42', '42', '42', '42', '42', '42', '42', '42', '42', '42', '42', '42', '42', '42', '42', '42', '42', '45', '43', '36', '42', '42', '42', '42', '42', '42', '42', '42', '42', '42', '42', '42', '42', '42', '42', '42', '42', '42', '42', '42', '42', '42', '42', '42', '38', '42', '36', '42', '42', '42', '42', '42', '44', '42', '42', '46', '38', '38', '38', '38', '38', '38', '38', '38', '38', '38', '43', '36', '42', '42', '42', '42', '36', '42', '42', '42', '42', '42', '36', '42', '42', '42', '38', '42', '38', '42', '42', '42', '42', '42', '36', '42', '36', '42', '42', '42', '42', '42', '42', '42', '42', '42', '42', '42', '42', '42', '42', '42', '42', '42', '42', '42', '42', '42', '42', '42', '42', '42', '42', '42', '42', '42', '42', '42', '42', '42', '42', '42', '42', '42', '42', '42', '42', '38', '42', '42', '42', '42', '42', '42', '42', '42', '42', '42', '42', '42', '42', '42', '42', '38', '42', '46', '36', '38', '38', '38', '38', '38', '38', '38', '40', '40', '38', '38', '43', '43', '43', '43', '36', '42', '38', '42', '42', '42', '38', '42', '42', '42', '42', '42', '42', '42', '42', '42', '42', '42', '42', '42', '42', '42', '42', '42', '42', '42', '42', '42', '44', '38', '38', '38', '40', '38', '42', '42', '42', '42', '42', '42', '42', '42', '42', '42', '42', '42', '42', '42', '42', '42', '42', '42', '42', '42', '42', '42', '42', '42', '42', '36']),\n",
       "       list(['50', '38', '38', '40', '38', '38', '40', '50', '48', '37', '45', '38', '40', '48', '40', '48', '43', '55', '44']),\n",
       "       list(['38', '38', '38', '40']),\n",
       "       list(['40', '38', '50', '38', '40', '38', '47', '38', '47', '38', '38', '38', '38', '38', '38', '38', '38', '38', '40', '38', '38', '38', '40', '38', '38', '47', '38', '38', '38', '38', '43', '43']),\n",
       "       list(['51', '51', '42', '42', '53', '51', '51', '38', '51', '42', '42', '51', '51', '42', '42', '53', '51', '53', '38', '51', '38', '38', '51', '36', '51', '42', '42', '51', '51', '40', '53', '46', '38', '38', '38', '40', '42', '42', '42', '55', '38', '44', '38', '38', '38', '43', '43', '42', '59', '53', '42', '42', '53', '42', '53', '38', '51', '42', '42', '51', '51', '42', '42', '51', '51', '51', '38', '51', '42', '42', '51', '51', '42', '42', '51', '44', '38', '38', '53', '42', '51', '51', '38', '38', '40', '38', '38', '40', '48', '47', '38', '38', '42', '51', '53', '42', '42', '53', '51', '38', '51', '42', '42', '51', '53', '42', '42', '36', '51', '51', '38', '51', '42', '42', '51', '51', '42', '42', '53', '51', '51', '38', '51', '42', '42', '51', '53', '42', '42', '53', '51', '38', '38', '38', '42', '42', '51', '51', '42', '36', '42', '53', '42', '51', '51', '38', '51', '46', '44', '42', '51', '53', '42', '42', '53', '51', '51', '38', '51', '42', '42', '51', '53', '42', '36', '51', '42', '53', '51', '51', '38', '51', '42', '42', '51', '53', '42', '42', '53', '51', '43', '43', '42', '51', '53', '42', '42', '53', '51', '51', '51', '42', '42', '51', '51', '42', '42', '53', '51', '38', '51', '42', '42', '53', '51', '42', '53', '38', '38', '38', '38', '38', '46', '46', '38', '48', '38', '38', '38', '48', '45', '45', '43', '36', '53', '42', '42', '53', '51', '51', '38', '51', '42', '42', '51', '40', '42', '53', '51', '51', '38', '51', '42', '42', '51', '40', '51', '42', '42', '53', '36', '51', '51', '38', '51', '42', '42', '51', '40', '53', '42', '42', '51', '51', '51', '38', '51', '42', '42', '51', '38', '53', '42', '42', '53', '51', '51', '38', '51', '42', '42', '53', '40', '53', '42', '38', '51', '38', '43', '43', '58', '36', '38', '42', '51', '51', '42', '42', '51', '51', '38', '51', '42', '42', '42', '38', '38', '38', '38', '38', '50', '48', '38', '47', '38', '58', '44', '42', '51', '38', '53', '42', '42', '53', '51', '51', '38', '51', '42', '42', '53', '51', '38', '53', '38', '38', '38', '40', '50', '45', '47', '47', '42', '51', '38', '53', '42', '42', '53', '51', '51', '38', '53', '38', '53', '38', '38', '55', '40', '38', '36', '45', '38', '38', '50', '38', '38', '40', '38', '48', '38', '38', '38', '47', '43', '42', '51', '53', '38', '53', '38', '38', '38', '40', '50', '45', '43', '42', '51', '40', '53', '42', '51', '51', '53', '38', '53', '42', '42', '42', '51', '38', '42', '42', '53', '51', '51', '38', '51', '42', '53', '46', '51', '44', '38', '40', '38', '48', '47', '38', '50', '43']),\n",
       "       list(['38', '38', '38', '38', '40', '40', '38', '38', '38', '38', '40']),\n",
       "       list(['38', '38', '38', '38', '38', '38', '38', '38']),\n",
       "       list(['38', '38', '38', '38', '38', '38', '40', '38', '38', '40', '38', '38', '38', '50', '38', '38', '38', '40', '38', '38', '38', '40', '38', '38', '40', '38', '38', '40']),\n",
       "       list(['59', '38', '38', '38', '36', '38', '48', '48', '38', '38', '45', '47', '45', '43', '43', '43']),\n",
       "       list([]),\n",
       "       list(['42', '42', '42', '42', '42', '42', '42', '42', '42', '42', '42', '42', '42', '42']),\n",
       "       list(['42', '42', '42', '42', '38', '40', '50', '48', '38', '47', '43']),\n",
       "       list(['38', '38', '38', '38', '40', '38', '38', '38', '40']),\n",
       "       list(['45', '45', '43', '43']),\n",
       "       list(['38', '36', '40', '42', '38', '38', '42', '42', '36', '38', '38', '44', '42', '38', '38', '48', '43', '36', '38', '42', '38', '38', '42', '42', '36', '38', '36', '40', '38', '38', '38', '40', '38', '50', '43', '38', '42', '36', '38', '42', '42', '42', '36', '42', '38', '42', '42', '42', '42', '38', '38', '42', '42', '36', '42', '38', '42', '42', '38', '42', '42', '36', '38', '38', '38', '38', '38', '48', '42', '36', '38', '42', '42', '42', '42', '42', '36', '42', '38', '42', '42', '42', '42', '42', '36', '38', '42', '42', '42', '38', '42', '42', '38', '38', '48', '38', '38', '50', '43', '38', '38', '55', '36', '42', '36', '38', '42', '42', '42', '42', '42', '38', '42', '46', '42', '42', '38', '42', '42', '42', '42', '38', '42', '46', '42', '36', '42', '38', '42', '42', '42', '42', '38', '42', '46', '42', '42', '38', '42', '42', '42', '42', '38', '38', '36', '42', '42', '36', '42', '38', '42', '36', '42', '42', '42', '38', '42', '42', '42', '38', '42', '42', '42', '42', '38', '42', '42', '42', '42', '38', '42', '42', '42', '42', '38', '42', '46', '42', '36', '38', '42', '42', '42', '38', '38', '38', '38', '40', '42', '38', '42', '42', '42', '42', '38', '42', '36', '46', '42', '38', '42', '42', '42', '42', '42', '38', '38', '38', '42', '46', '42', '40', '42', '42', '42', '36', '46', '42', '38', '42', '42', '46', '38', '42', '42', '38', '36', '42', '38', '42', '42', '42', '42', '38', '46', '42', '42', '38', '42', '42', '42', '42', '38', '46', '42', '42', '38', '42', '42', '42', '36', '42', '42', '38', '38', '38', '38', '36', '36', '50', '38', '38', '38', '38', '38', '38', '50', '43', '36', '42', '36', '42', '38', '42', '46', '42', '42', '38', '46', '42', '46', '38', '42', '42', '46', '42', '38', '42', '46', '42', '38', '42', '42', '42', '42', '42', '38', '42', '46', '42', '38', '42', '42', '42', '42', '38', '38', '38', '42', '42', '38', '42', '42', '42', '42', '38', '42', '46', '42', '38', '42', '42', '42', '42', '38', '42', '42', '36', '46', '36', '42', '38', '42', '46', '42', '38', '38', '38', '38', '36', '36', '44', '38', '38', '38', '38', '38', '44', '38', '42', '42', '38', '42', '42', '42', '42', '38', '42', '42', '42', '42', '38', '42', '42', '42', '42', '42', '38', '42', '42', '42', '38', '42', '42', '46', '42', '42', '38', '42', '42', '42', '42', '36', '38', '42', '42', '46', '38', '38', '44', '42', '36', '42', '38', '42', '42', '42', '42', '38', '42', '42', '42', '38', '42', '42', '42', '42', '40', '42', '46', '42', '36', '42', '38', '38', '42', '42', '42', '42', '36']),\n",
       "       list(['42', '42', '42', '38', '38', '38', '38', '50', '38', '38', '38', '48', '45', '48', '50']),\n",
       "       list(['37', '48', '47', '38', '47', '38', '38', '50', '38', '47', '36', '48', '48', '38', '43']),\n",
       "       list(['38', '38', '48', '38', '38', '45', '38', '38', '43', '43']),\n",
       "       list(['42', '38', '38', '38', '42', '36', '38', '36', '38']),\n",
       "       list(['42', '42', '42', '42', '42', '42', '42', '42', '42', '42', '42', '42', '42', '42', '42', '36', '42', '42', '42', '42', '42', '42', '42', '42', '42', '42', '42', '42', '42', '42', '42', '42', '42', '42', '42', '42', '42', '42', '42', '42', '42', '42', '42', '42', '42', '42', '42', '42', '42', '42', '42', '42', '42', '42', '42', '42', '42', '42', '42', '42', '42', '42', '42', '42', '42', '42', '42', '42', '42', '46', '42', '42', '42', '42', '42', '42', '42', '42', '42', '42', '42', '42', '46', '42', '42', '42', '42', '46', '42', '42', '42', '42', '42', '42', '42', '42', '42', '42', '42', '42', '42', '42', '42', '42', '42', '46', '42', '42', '42', '42', '42', '42', '42', '42', '42', '42', '42', '42', '42', '42', '42', '42', '42', '46', '42', '42', '42', '42', '42', '42', '42', '42', '42', '42', '42', '42', '42', '42', '42', '42', '42', '42', '42', '42', '42', '42', '42', '42', '42', '42', '42', '42', '42', '42', '42', '42', '42', '42', '42', '42', '42', '42', '42', '42', '42', '42', '42']),\n",
       "       list(['44', '38', '38', '38', '38', '38', '38', '38', '38', '38', '38', '38', '40', '38', '38', '38', '38', '40', '38', '50', '38', '38', '40', '38', '38', '48', '43', '43']),\n",
       "       list(['42', '38', '38', '40', '38', '36', '36', '50', '38', '38', '40', '38', '42', '42', '40', '42', '40', '42', '42', '42', '40', '38', '40', '48', '36']),\n",
       "       list(['38', '38', '38', '44', '38', '38', '36', '38', '38', '38', '44', '38', '38', '38', '38', '38', '36', '38', '38', '38', '38', '38', '38', '36', '38', '44', '38', '38', '36', '38', '38', '44', '40', '38', '38', '36', '38', '38', '38', '38', '38', '38', '36', '38', '38', '38', '36', '38', '44', '38', '40', '36', '38', '38', '38', '38', '38', '38', '38', '36', '38', '38', '38', '38', '38', '48', '45', '58', '38', '38', '38', '38', '44', '38', '38', '38', '38', '44', '38', '40', '38', '38', '38', '40', '44', '38', '38', '38', '38', '44', '38', '38', '38', '38', '44', '40', '38', '38', '38', '38', '38', '38', '38', '38', '44', '47', '40', '47', '38', '38', '38', '40', '40', '38', '40', '40', '38', '38', '40', '38', '38', '38', '36', '38', '38', '38', '44', '38', '38', '38', '38', '38', '36', '38', '38', '44', '40', '38', '38', '43', '36', '38', '38', '38', '38', '38', '38', '38', '38', '38', '48', '38', '38', '45', '43', '43', '38', '44', '36', '38', '38', '38', '38', '38', '38', '38', '38', '40', '38', '38', '38', '38', '44', '43', '36', '38', '58', '44', '38', '47', '38', '38', '44', '40', '38', '50', '48', '47', '47', '36', '38', '43', '36', '59', '44', '38', '38', '38', '38', '38', '38', '40', '48', '38', '40', '38', '38', '38', '38', '38', '38', '38', '40', '38', '36', '48', '38', '36', '38', '50', '38', '38', '40', '40', '38', '38', '43', '43']),\n",
       "       list(['50', '48', '38', '38', '38', '40', '38', '48', '48', '38', '48', '40', '48', '48', '48', '50', '48', '38', '38', '40', '38', '47', '38', '40', '38', '40', '38', '43', '43']),\n",
       "       list(['48', '50', '48', '37', '40', '40', '44', '48', '50', '50', '38', '40', '38', '45', '43']),\n",
       "       list(['38', '38', '48', '38', '48', '38', '38', '40', '38', '43', '43', '43']),\n",
       "       list(['38', '38', '40', '38', '40', '48', '47', '45', '43', '43', '42', '36', '38', '38', '42', '38', '38', '42', '36', '42', '42', '36', '42', '38', '42', '42', '42', '42', '46', '44', '38', '42', '46', '42', '40', '42', '42', '42', '42', '38', '40', '38', '42', '42', '36', '38', '36', '38', '40', '38', '50', '38', '40', '50', '45', '47', '47', '43', '42', '36', '40', '42', '42', '42', '42', '40', '42', '42', '40', '42', '42', '36', '36', '38', '42', '42', '42', '40', '42', '42', '36', '36', '38', '38', '38', '38', '38', '38', '40', '48', '50', '36', '36', '38', '40', '38', '38', '47', '48', '38', '48', '58']),\n",
       "       list(['44']),\n",
       "       list(['44', '42', '38', '38', '36', '36', '42', '38', '38', '36', '36', '42', '38', '38', '40', '40', '48', '50', '40', '48', '48', '50', '38', '38', '40', '38', '38', '43', '43', '43']),\n",
       "       list(['42', '42', '42', '42', '42', '42', '38', '42', '40', '42', '40', '42', '42', '38', '38', '40', '40', '36']),\n",
       "       list(['38', '38', '38', '38', '40']),\n",
       "       list(['38', '48', '38', '38', '45', '38', '38', '45', '38', '38', '43']),\n",
       "       list(['38', '38', '38', '40', '48', '44', '48', '38', '48', '59', '58']),\n",
       "       list(['38', '38', '48', '36', '36', '38', '38', '38', '38', '38', '36', '38', '38', '38', '38', '48', '48', '45', '38', '40', '38', '38', '38', '38', '43', '43', '43']),\n",
       "       list(['38', '40', '38', '40', '38', '42', '38', '42', '38', '42', '38', '42', '42', '38', '42', '36', '42', '42', '46', '36', '38', '40', '48', '38', '38', '36', '42', '36', '42', '42', '36', '40', '38', '38', '38', '36', '38', '42', '42', '42', '38', '38', '37', '40', '40', '38', '38', '36', '51', '55', '44', '53', '53', '55', '49', '49', '51', '55', '44', '51', '53', '55', '49', '49', '51', '49', '53', '51', '51', '51', '51', '51', '44', '51', '53', '51', '51', '38', '38', '38', '38', '38', '40', '44', '38', '40', '40', '44', '50', '38', '42', '42', '42', '42', '38', '42', '42', '42', '42', '42', '36', '38', '38', '38', '50', '47', '36', '55', '42', '42', '38', '38', '37', '46', '42', '38', '38', '38', '38', '50', '58', '36', '55', '38', '53', '42', '42', '53', '38', '53', '42', '42', '53', '38', '53', '42', '42', '53', '51', '38', '51', '42', '51', '38', '53', '42', '51', '38', '53', '42', '51', '38', '53', '51', '51', '51', '38', '53', '42', '42', '53', '38', '53', '42', '42', '51', '38', '53', '42', '36', '46', '51', '38', '47', '42', '42', '53', '38', '53', '42', '42', '51', '45', '45', '45', '38', '38', '59', '38', '36', '46', '36', '38', '38', '38', '38', '40', '40', '38', '40', '48', '47', '38', '40', '48', '43', '43', '51', '53', '42', '53', '36', '38', '53', '42', '53', '36', '38', '53', '42', '51', '38', '36', '51', '42', '38', '36', '42', '38']),\n",
       "       list(['38', '38', '38', '38', '38', '38', '38', '38', '38', '38', '38', '38', '38', '38', '44', '38', '38', '38', '38', '38', '58', '43']),\n",
       "       list(['38', '38', '38', '38', '38', '38', '38', '48', '38', '48', '48', '38', '48', '38', '38', '48', '43', '43', '43', '43']),\n",
       "       list(['51', '51', '42', '42', '53', '51', '51', '38', '51', '42', '42', '51', '53', '42', '42', '53', '51', '51', '38', '51', '42', '42', '51', '51', '42', '42', '51', '51', '51', '38', '51', '42', '42', '51', '36', '51', '51', '38', '44', '38', '38', '38', '50', '47', '55', '36', '42', '51', '51', '42', '42', '53', '51', '51', '38', '40', '42', '42', '53', '38', '53', '38', '53', '36', '38', '36', '50', '38', '38', '38', '43', '42', '51', '38', '53', '42', '53', '51', '51', '38', '38', '53', '42', '51', '40', '51', '38', '38', '40', '38', '38', '50', '47', '38', '38', '38', '38', '43', '58', '42', '51', '53', '42', '42', '53', '42', '51', '51', '38', '51', '42', '42', '51', '53', '42', '51', '51', '51', '38', '51', '42', '42', '51', '38', '51', '42', '42', '53', '51', '51', '38', '51', '38', '38', '38', '38', '38', '38', '38', '38', '38', '50', '38', '38', '38', '38', '36', '38', '38', '40', '38', '38', '40', '38', '38', '43', '43', '43', '36', '38', '42', '53', '51', '38', '51', '42', '42', '51', '42', '51', '42', '53', '53', '51', '42', '42', '42', '51', '51', '53', '51', '42', '42', '51', '42', '51', '53', '38', '44', '38', '38', '43', '43', '51', '59', '51', '53', '38', '51', '42', '42', '53', '37', '42', '51', '51', '51', '42', '51', '36', '42', '59', '51', '55', '38', '38', '38', '38', '38', '38', '48', '38', '38', '48']),\n",
       "       list(['38', '38', '40', '38', '50', '38', '38', '40', '40', '48', '43', '45', '43', '47']),\n",
       "       list(['38', '38', '38', '38', '40', '38', '40', '38', '38', '40', '40', '40']),\n",
       "       list(['44', '38', '38', '40', '38', '43', '43', '36', '36', '43', '38', '38', '38', '40', '48', '47', '48', '38', '38', '40', '38', '38', '40', '38', '38', '50', '38', '48', '45', '38', '47', '38', '38', '38', '43', '43']),\n",
       "       list(['38', '38', '40', '38', '38', '38', '50', '38', '38', '38', '40', '38', '38', '38', '38', '43']),\n",
       "       list(['38', '47', '48', '50', '46', '46', '46', '46', '46', '46', '46', '46', '46', '46', '46', '38', '38', '38', '48', '38', '38', '40', '38', '40', '40', '38', '48', '48', '47', '45', '55', '46', '46', '38', '46', '46', '46', '46', '46', '46', '46', '46', '38', '36', '38', '38', '38', '37', '46', '46', '38', '38', '40', '40', '48', '47', '38', '40', '48', '43', '46', '46', '46', '46', '46', '42', '42', '46', '46', '46', '46', '46', '46', '46', '46', '38', '46', '46', '38', '43', '43', '43', '46', '46', '46', '46', '46', '46', '46', '46', '46', '46', '46', '46', '38', '46', '38', '38', '38', '40', '46', '46', '46', '46', '36', '38', '38', '40', '38', '38', '40', '40', '48', '43', '46', '46', '46', '55', '46', '46', '46', '46', '46', '38', '46', '38', '58', '40', '36', '38', '38', '38', '40', '38', '36', '36', '44', '47', '38', '38', '40', '38', '50', '38', '38', '38', '40', '40', '40', '38', '46', '38', '38', '46', '46', '46', '46', '38', '38', '38', '46', '38', '38', '38', '38', '38', '46', '38', '36', '46', '36', '36', '38', '55', '38', '40', '38', '40', '37', '40', '40', '36', '46', '36', '55', '38', '38', '38', '38', '38', '46', '38', '40', '38', '37', '40', '38', '44', '38', '40', '40', '36', '36', '38', '38', '40', '40', '38', '43', '43', '46', '46', '46', '38', '38', '38', '46', '46', '38', '38', '38', '38', '40', '38', '38', '38', '38', '55', '38', '38', '40', '38', '50', '48', '36', '40', '38', '40', '38', '38', '36', '46', '38', '38', '38', '38', '36', '59', '38', '46', '38', '38', '38', '38', '46', '46', '38', '46', '46', '38', '46', '46', '38', '46', '46', '46', '46', '46', '46', '46', '46', '38', '46', '46', '46', '36', '36', '46', '38', '40', '46', '36', '36', '38', '38', '38', '40', '40', '40', '36', '36', '44', '38', '38', '40', '38', '40', '38', '38', '38', '40', '40', '40', '38', '38', '48', '45', '45', '43']),\n",
       "       list(['42', '42', '38', '42', '38', '42', '38', '42', '38', '42', '38', '42', '38', '42', '38', '42', '38', '42', '42', '38', '42', '38', '42', '38', '42', '36', '42', '38', '42', '38', '38', '42', '38', '42', '38', '42', '38', '42', '38', '38', '42', '38', '42', '38', '42', '38', '42', '38', '42', '38', '42', '38', '42', '38', '42', '38', '42', '38', '42', '38', '42', '38', '42', '38', '42', '38', '42', '38', '42', '38', '42', '38', '42', '38', '42', '38', '38', '42', '38', '42', '38', '42', '38', '42', '38', '42', '38', '42', '38', '36', '42', '42', '38', '42', '38', '42', '38', '38', '38', '42', '38', '42', '38', '42', '38', '38', '44', '38', '38', '38', '38', '44', '38', '38', '38', '38', '38', '38', '38', '43', '43', '42', '38', '42', '38', '42', '38', '42', '38', '42', '38', '42', '38', '42', '38', '42', '38', '42', '38', '38', '38', '38', '38', '38', '38', '44', '38', '38', '38', '38', '38', '38', '42', '38', '42', '42', '38', '42', '42', '38', '42', '38', '42', '38', '38', '38', '42', '38', '42', '38', '38', '44', '42', '38', '38', '38', '38', '38', '38', '38', '48', '50', '38', '38', '38', '38', '38', '38', '43', '43', '42', '38', '42', '38', '42', '38', '42', '38', '42', '38', '42', '38', '42', '38', '42', '38', '36', '42', '44', '42', '38', '50', '48', '38', '38', '40', '38', '47', '38', '38', '38', '38', '38', '38', '43', '50', '43', '43', '42', '38', '42', '38', '42', '38', '42', '38', '42', '38', '42', '38', '46', '42', '38', '42', '38', '42', '38', '42', '38', '42', '38', '42', '38', '42', '38', '42', '38', '42', '38', '42', '38', '42', '38', '42', '38', '42', '38', '42', '38', '42', '38', '42', '38', '38', '38', '36', '36', '38', '38', '38', '38', '38', '38', '48', '38', '38', '38', '38', '38', '40']),\n",
       "       list(['38', '38', '38', '38', '45', '50', '48', '50', '50', '50', '50', '38', '38', '38', '40', '38', '48', '50', '50', '44', '38', '38', '38', '40', '38', '40', '38', '50', '50', '50', '43', '43']),\n",
       "       list(['38', '45', '38', '48', '48', '45', '45', '43', '43']),\n",
       "       list(['38', '38', '48', '38', '38', '38', '38', '50', '45', '45', '45', '43', '43', '43', '43']),\n",
       "       list(['38', '38', '38', '38', '38', '38', '38', '38', '38', '38', '40', '38', '40', '38', '38', '38', '38', '40', '38', '38', '40', '38', '38', '38', '40', '38', '40', '38', '38', '40', '40']),\n",
       "       list(['38', '40', '48', '38', '38', '40', '40', '45', '47', '48', '38', '38', '37', '38', '38', '47', '45', '43']),\n",
       "       list(['36', '38', '36', '50', '36', '38', '38', '38', '40', '50', '47', '38', '38', '50', '43', '43', '43']),\n",
       "       list(['36', '38', '40', '38', '50', '38', '37', '48', '47', '36', '47', '38', '38', '40', '48', '43']),\n",
       "       list(['38', '38', '43', '43', '43', '43']),\n",
       "       list(['40', '40', '42', '36', '36', '40', '42', '38', '42', '40', '42', '42', '42', '40', '40', '50', '38', '36', '36', '40', '38', '38', '47', '38', '38', '40', '38', '40', '38', '43', '43']),\n",
       "       list(['44', '40', '38', '40', '38', '38', '38', '36', '38', '38', '38', '38', '38', '38', '36', '38', '38', '38', '38', '36', '38', '38', '36', '38', '40', '40', '38', '38', '38', '38', '38', '38', '38', '38', '37', '40', '42', '46', '44', '38', '40', '36', '47', '40', '38', '42', '42', '42', '46', '38', '40', '40', '38', '42', '55', '42', '42']),\n",
       "       list(['38', '38', '40', '38', '38', '50', '38', '38', '38', '40', '48', '45', '48', '36', '47', '38', '38', '48', '48', '38', '38', '38', '40', '38', '43']),\n",
       "       list(['36', '38', '43', '36', '38', '45', '36', '50', '38', '38', '38', '40', '40', '37', '48', '38', '40', '40', '48', '45', '45', '43', '43']),\n",
       "       list(['48', '38', '38', '38', '38', '40', '38', '48', '38', '38', '38', '38', '48', '45', '45', '43', '43']),\n",
       "       list(['38', '48', '48', '36', '36', '38', '38', '47', '36', '47', '36', '38', '38', '38', '58', '43', '36']),\n",
       "       list(['38', '36', '38', '38', '36', '38', '40', '38', '50', '38', '37', '38', '40']),\n",
       "       list(['36', '42', '38', '36', '37', '38', '42', '38', '38', '40', '42', '38', '42', '42', '38', '44', '38', '40', '44', '48', '47', '38', '38', '38', '36', '38', '42', '36', '38', '42', '36', '38', '46', '36', '40', '38', '40', '40', '38', '42', '36', '38', '36', '42', '38', '46', '38', '42', '42', '38', '36', '38', '46', '38', '38', '38', '38', '38', '38', '55', '46', '42', '38', '38', '42', '36', '42', '38', '38', '38', '40', '42', '38', '44', '38', '38', '38', '38', '38', '38', '38', '38', '38', '42', '38', '38', '36', '42', '38', '42', '38', '36', '36', '38', '44', '38', '40', '38', '55', '36', '38', '38', '38', '38', '38', '36', '40', '38', '38', '44', '40', '40', '38', '44', '38', '42', '38', '36', '42', '38', '38', '36', '42', '38', '36', '40', '38', '38', '40', '38', '38', '38', '38', '38', '38', '46', '44', '38', '38', '40', '40', '42', '38', '36', '38', '38', '38', '38', '38', '38', '40', '38', '44', '47', '40', '40', '48', '47', '38', '38', '36', '46', '42', '36', '38', '40', '42', '36', '38', '42', '36', '38', '36', '38', '40', '36', '38', '36', '38', '38', '40', '38', '38', '38', '46', '42', '38', '36', '38', '36', '38', '36', '36', '38', '40', '38', '36', '36', '38', '38', '40', '38', '36', '46', '36', '53', '36', '38', '53', '42', '36', '53', '53', '42', '42', '51', '53', '42', '42', '53', '53', '42', '36', '53', '36', '53', '42', '53', '51', '38', '53', '46', '51', '42', '53', '36', '53', '46', '42', '53', '38', '38', '38', '40', '44', '36', '53', '46', '42', '51', '36', '38', '51', '42', '42', '53', '51', '42', '36', '53', '46', '36', '42', '53', '36', '53', '46', '42', '51', '53', '40', '38', '51', '46', '38', '38', '38', '48', '47', '36', '36', '47', '38', '38', '40']),\n",
       "       list(['43', '43', '48', '47', '48', '47', '50', '48', '47', '47', '50', '43', '43', '43']),\n",
       "       list(['38', '50', '38', '38', '38', '38', '47', '38', '38', '38', '38', '38', '38', '38', '38', '38', '43', '43']),\n",
       "       list(['40', '36', '37', '36', '40', '42', '38', '40', '36', '40', '42', '42', '40', '38']),\n",
       "       list(['50', '38', '38', '38', '38', '38', '38', '38', '38', '38', '38', '38', '38', '38', '38', '38', '38', '40', '38', '38', '40', '38', '43']),\n",
       "       list(['38', '36', '38', '42', '38', '42', '38', '38', '40', '38', '40', '38', '40']),\n",
       "       list(['38', '38', '50', '48', '36', '36', '38', '38', '50', '48', '36', '38', '38', '48', '38', '36', '47', '36', '38', '38', '40', '38', '38', '43', '43', '43']),\n",
       "       list(['44', '42', '42', '42', '42', '42', '42', '42', '42', '42', '42', '42', '42', '42', '42', '42', '42', '42', '42', '42', '42', '42', '42', '38', '42', '38', '42', '42', '42', '42', '42', '38', '46', '38', '38', '38', '38', '38', '43', '43', '42', '42', '42', '42', '42', '46', '38', '38', '38', '38', '38', '38', '38', '38', '42', '42', '38', '42', '38', '42', '42', '42', '38', '38', '48', '38', '38', '38', '38', '42', '42', '42', '42', '42', '42', '42', '38', '44', '38', '50', '38', '38', '43', '43', '43', '55', '42', '42', '42', '42', '42', '36', '44', '42', '38', '42', '42', '42', '42', '42', '42', '42', '38', '38', '42', '42', '42', '42', '36', '36', '36', '36', '50', '38', '38', '38', '40', '38', '43', '43', '43', '58']),\n",
       "       list(['38', '36', '38', '45', '36', '38', '45', '38', '48', '38', '38', '38', '40', '38', '48', '38', '38', '38', '38', '38', '43', '43', '58']),\n",
       "       list(['38', '38', '38', '40', '38', '38', '50', '38', '45', '45', '43', '43']),\n",
       "       list(['40', '38', '48', '38', '38', '47', '44', '40', '38', '38', '38', '38', '38', '40', '40', '50', '38', '38', '40', '40', '40', '47', '48', '38', '47', '38', '38', '38', '43', '40', '40']),\n",
       "       list([]),\n",
       "       list(['46', '46', '46', '46', '46', '46', '46', '38', '38', '38', '38', '38', '38', '46', '46', '46', '46', '38', '46', '46', '46', '38', '38', '38', '40', '38', '36', '36', '50', '48', '38', '38', '40', '38', '38', '47', '48', '43', '46', '46', '46', '38', '46', '38', '38', '38', '38', '38', '38', '38', '38', '38', '48', '43', '38', '46', '46', '45', '38', '38', '43', '38', '48', '38', '40', '38', '36', '36', '47', '40', '38', '38', '43', '55', '36', '59', '46', '38', '38', '46', '36', '38', '38', '46', '46', '46', '46', '38', '46', '46', '46', '46', '38', '36', '36', '44', '38', '40', '40', '36', '50', '48', '37', '38', '40', '38', '38', '48', '47', '46', '38', '36', '36', '46', '46', '38', '38', '46', '38', '38', '40', '36', '38', '37', '40', '48', '47', '38', '38', '36', '38', '38', '36', '38', '36', '38', '38', '38', '38', '38', '40', '36', '36', '38', '37', '40', '38', '38', '38', '40', '44', '50', '38', '48', '36', '44', '47', '38', '44', '38', '40', '38', '50', '48', '38', '38', '38', '40', '38', '38', '38', '38', '40', '38', '38', '43', '36']),\n",
       "       list(['42', '38', '38', '38', '38', '38', '44', '38', '40', '38', '36', '38', '36', '38', '38', '38', '38', '38', '38', '38', '38', '38', '38', '38', '38', '38', '38', '38', '38', '38', '38', '40', '38', '55', '36', '36', '38', '38', '38', '38', '42', '38', '38', '38', '38', '42', '38', '42', '38', '38', '38', '38', '38', '38', '38', '38', '38', '40', '46', '42', '38', '38', '38', '38', '38', '42', '38', '36', '38', '42', '38', '38', '38', '38', '38', '38', '38', '38', '38', '38', '38', '44', '38', '40', '40', '38']),\n",
       "       list(['51', '51', '36', '51', '51', '51', '51', '51', '51', '44', '51', '51', '51', '51', '51', '51', '51', '51', '38', '38', '51', '51', '51', '51', '51', '51', '51', '51', '51', '51', '51', '38', '43', '51', '51', '51', '48', '48', '43', '43', '43', '51', '45', '43', '44', '51', '51', '51', '38', '38', '38', '40', '51', '38', '36', '44', '51', '51', '51', '51', '43', '43', '36', '51', '45', '38', '40', '38', '40', '51', '51', '38', '51', '38', '45', '38', '38', '43', '38', '36', '38', '38', '38', '51', '48', '48', '45', '43', '43', '51', '38', '38', '38', '51', '43']),\n",
       "       list(['38', '45', '43', '43']),\n",
       "       list(['42', '42', '48', '42', '42', '43', '43', '43']),\n",
       "       list(['43', '38', '48', '48', '48', '50']),\n",
       "       list(['43', '38', '38', '38', '38', '45', '43', '43']),\n",
       "       list(['48', '48', '45', '45', '36']),\n",
       "       list(['36', '38', '38', '40', '48', '48', '38', '45', '43', '43']),\n",
       "       list(['58', '58', '58', '38', '58', '38', '38', '38', '58', '38', '58', '38', '38', '47', '50', '38', '38', '38', '43', '36', '58', '40', '38', '38', '40', '50', '43', '55']),\n",
       "       list(['36', '48', '43', '36', '45', '43', '38', '38', '38', '38', '40', '40', '48', '38', '38', '38', '40', '38', '38', '47', '38', '38', '40', '38', '50', '48', '48', '50', '47', '45', '47', '45', '43', '36']),\n",
       "       list(['48', '38', '38', '50', '38', '38', '47', '38', '38', '47', '38', '38', '43', '38', '43', '38', '38', '43', '38', '38', '38', '58', '38']),\n",
       "       list(['38', '38', '38', '38', '38', '45', '43']),\n",
       "       list(['38', '38', '36', '36', '48', '48', '38', '38', '48', '43', '43', '44', '51', '51', '51', '51', '51', '38', '45', '38', '38', '48', '38', '43', '43', '36', '51', '51', '44', '38', '38', '38', '43', '43', '44', '44', '44', '38', '38', '48', '45', '45', '43', '43', '43', '43', '43']),\n",
       "       list(['40', '38', '36', '50', '48', '36', '37', '38', '36', '47', '38', '38', '40', '38', '36', '36', '47', '40', '38', '38', '40', '47']),\n",
       "       list(['36', '48', '50', '48', '38', '38', '38', '36', '48', '50', '38', '38', '38', '38', '38', '38', '38', '38', '43', '43', '43']),\n",
       "       list(['46', '38', '42', '36', '38', '38', '38', '42', '38', '42', '42', '44', '42', '44', '38', '38', '38', '40', '42', '38', '42', '42', '38', '42', '42', '38', '42', '38', '38', '38', '38', '44', '40', '40', '38', '38', '38', '36', '42', '38', '38', '38', '38', '38', '38', '38', '38', '38', '38', '38', '38', '38', '38', '44', '38', '37', '40', '38']),\n",
       "       list(['37', '48', '48', '45', '43', '43', '43', '43']), list([]),\n",
       "       list(['44', '38', '44', '38', '38', '38', '38', '38', '44', '38', '38', '38', '38', '47', '45', '38', '44', '38', '38']),\n",
       "       list(['44', '42', '42', '38', '42', '42', '42', '42', '38', '42', '42', '42', '40', '42', '42', '42', '42', '40', '42', '46', '42', '36', '42', '38', '42', '42', '42', '42', '40', '42', '42', '42', '38', '38', '46', '38', '38', '44', '40', '38', '48', '42', '40', '42', '42', '38', '42', '42', '42', '36', '42', '38', '42', '42', '42', '42', '38', '38', '42', '36', '42', '38', '42', '42', '42', '42', '40', '38', '38', '38', '38', '40', '42', '42', '36', '40', '40', '38', '40', '38', '44', '38', '50', '58', '42', '42', '38', '42', '42', '42', '42', '38', '42', '42', '42', '38', '42', '42', '46', '38', '38', '48', '38', '43', '58', '36', '42', '42', '42', '38', '42', '42', '46', '36', '42', '38', '42', '36', '38', '42', '42', '42', '40', '44', '38', '42', '42', '38', '42', '42', '42', '42', '40', '42', '42', '42', '40', '42', '46', '42', '42', '40', '42', '42', '46', '38', '42', '42', '42', '36', '46', '42', '38', '46', '40', '38', '38', '40', '38', '44', '38', '38', '40', '36', '36', '40', '38', '38', '38', '38', '38']),\n",
       "       list(['38', '38', '38', '38', '40', '38', '50', '38', '40', '38', '38', '45', '47', '43', '43']),\n",
       "       list(['44', '36', '43', '40', '47', '38', '38', '38', '50', '36', '38', '38', '40', '48', '47', '55', '40']),\n",
       "       list(['48', '38', '48', '48', '38', '48', '45', '38', '45', '45', '38', '45', '43', '38', '43', '43', '43', '37', '43', '43', '38', '43']),\n",
       "       list(['55', '55', '55', '55', '40']),\n",
       "       list(['38', '38', '38', '38', '38', '40']),\n",
       "       list(['40', '38', '36', '38', '48', '36', '38', '47', '38', '38', '38', '36', '50', '48', '38', '38', '38', '43', '43']),\n",
       "       list(['38', '38', '38', '38', '50', '40', '38', '40', '50', '47', '47', '43', '43', '58', '43']),\n",
       "       list(['36', '38', '38', '38', '38', '43']),\n",
       "       list(['40', '38', '38', '38', '40', '38', '38', '50', '40', '38', '38', '38', '38', '40', '38', '38', '40', '40', '38', '40', '37', '38', '40', '38', '38', '48', '40', '40', '38', '38', '38', '40', '38', '38', '38', '47', '40', '40', '38', '40']),\n",
       "       list(['42', '42', '42', '42', '42', '42', '42', '42', '42', '42', '42', '42', '42', '42', '42', '42', '42', '42', '42', '42', '42', '42', '42', '42', '42', '42', '42', '42', '42', '42', '42', '42', '42', '42', '42', '42', '42', '42', '42', '42', '42', '42', '42', '42', '42', '42', '42', '42', '42', '42', '42', '42', '42', '42', '42', '42', '42', '42', '42', '42', '42', '42', '42', '42', '42', '42', '48', '38', '38', '38', '38', '43', '43', '42', '42', '42', '42', '42', '42', '42', '42', '42', '42', '42', '42', '42', '42', '42', '42', '42', '42', '42', '42', '42', '42', '36', '38', '44', '38', '38', '38', '38', '48', '48', '36', '36', '47', '38', '38', '38', '40', '38', '43', '43', '43', '43', '43', '42', '42', '42', '42', '42', '42', '42', '42', '42', '42', '42', '42', '42', '42', '42', '42', '42', '42', '42', '42', '42', '42', '42', '42', '42', '42', '42', '42', '42', '51', '51', '51', '51', '51', '51', '51', '51', '51', '51', '51', '51', '51', '38', '51', '51', '51', '51', '51', '51', '51', '51', '51', '51', '38', '38', '38', '38', '43', '43', '51', '51', '51', '51', '51', '51', '51', '51', '51', '51', '51', '51', '51', '51', '51', '51', '38', '38', '38', '44', '38', '38', '36']),\n",
       "       list(['44', '44', '44', '38', '44', '40', '38', '37', '40', '44', '40', '38', '38', '42', '38', '42', '38', '42', '36', '38', '36', '38', '42', '36', '38', '38', '38', '38', '38', '40', '48', '38', '48', '38', '43', '46', '42', '38', '42', '36', '38', '36', '42', '38', '40', '42', '38', '44', '38', '40', '36', '38', '38', '38', '48', '38', '37', '38', '44', '38', '38', '36', '42', '36', '42', '38', '36', '38', '38', '42', '38', '38', '38', '36', '38', '38', '38', '38', '38', '38', '38', '46', '38', '38', '38', '38', '38', '42', '42', '38', '42', '36', '42', '38', '36', '38', '38', '38', '38', '36', '38', '38', '38', '38', '38', '48', '43', '38', '38', '38', '38', '42', '38', '38', '38', '38', '38', '38', '38', '38', '38', '38', '38', '38', '48', '38', '40', '38', '48', '38', '40', '40', '40', '38', '43', '44', '48', '46', '38', '38', '38', '38', '38', '38', '38', '38', '46', '44', '38', '38', '38', '38', '38', '38', '38', '38', '38', '40', '38', '48', '38', '44', '48', '43', '36', '55']),\n",
       "       list(['44', '38', '38', '38', '50', '38', '38', '48', '38', '38', '47', '38', '40', '40', '48', '50', '47', '38', '38', '38', '43']),\n",
       "       list(['42', '36', '42', '42', '42', '42', '42', '46', '42', '42', '42', '42', '42', '45', '45', '43', '42', '36', '36', '36', '42', '36', '46', '38', '38', '43', '43', '42', '42', '40', '42', '42', '46', '42', '42', '42', '38', '38', '38', '38', '40', '42', '36', '42', '42', '42', '44', '36', '42', '36', '42', '36', '42', '44', '36', '42', '44', '36', '42', '44', '36', '42', '44', '36', '42', '44', '44', '36', '42', '36', '38', '38', '38', '38', '38', '51', '51', '44', '51', '51', '51', '51', '38', '38', '38', '48', '48', '36', '51', '51', '51', '51', '51', '51', '51', '51', '51', '51', '51', '51', '51', '51', '51', '51', '51', '44', '38', '38', '38', '38', '44', '44', '42', '46', '42', '42', '42', '42', '36', '44', '42', '36', '42', '44', '44', '36', '42', '44', '38', '38', '38', '43', '43', '43'])],\n",
       "      dtype=object)"
      ]
     },
     "execution_count": 13,
     "metadata": {},
     "output_type": "execute_result"
    }
   ],
   "source": [
    "new_music=[]\n",
    "\n",
    "for notes in notes_array:\n",
    "    temp=[]\n",
    "    for note_ in notes:\n",
    "        if note_ in frequent_notes:\n",
    "            temp.append(note_)            \n",
    "    new_music.append(temp)\n",
    "    \n",
    "new_music = np.array(new_music)\n",
    "\n",
    "new_music"
   ]
  },
  {
   "cell_type": "code",
   "execution_count": 16,
   "metadata": {},
   "outputs": [
    {
     "name": "stdout",
     "output_type": "stream",
     "text": [
      "(5135, 32) (5135,)\n"
     ]
    },
    {
     "data": {
      "text/plain": [
       "array(['38', '38', '40', ..., '43', '43', '43'], dtype='<U2')"
      ]
     },
     "execution_count": 16,
     "metadata": {},
     "output_type": "execute_result"
    }
   ],
   "source": [
    "\n",
    "no_of_timesteps = 32\n",
    "x = []\n",
    "y = []\n",
    "\n",
    "for note_ in new_music:\n",
    "    for i in range(0, len(note_) - no_of_timesteps, 1):\n",
    "        \n",
    "        #preparing input and output sequences\n",
    "        input_ = note_[i:i + no_of_timesteps]\n",
    "        output = note_[i + no_of_timesteps]\n",
    "        \n",
    "        x.append(input_)\n",
    "        y.append(output)\n",
    "        \n",
    "x=np.array(x)\n",
    "y=np.array(y)\n",
    "print (x.shape, y.shape)\n",
    "y"
   ]
  },
  {
   "cell_type": "code",
   "execution_count": 10,
   "metadata": {},
   "outputs": [
    {
     "data": {
      "text/plain": [
       "{'50': 0,\n",
       " '37': 1,\n",
       " '47': 2,\n",
       " '58': 3,\n",
       " '48': 4,\n",
       " '38': 5,\n",
       " '51': 6,\n",
       " '46': 7,\n",
       " '36': 8,\n",
       " '22': 9,\n",
       " '53': 10,\n",
       " '49': 11,\n",
       " '59': 12,\n",
       " '42': 13,\n",
       " '45': 14,\n",
       " '40': 15,\n",
       " '44': 16,\n",
       " '26': 17,\n",
       " '55': 18,\n",
       " '43': 19}"
      ]
     },
     "execution_count": 10,
     "metadata": {},
     "output_type": "execute_result"
    }
   ],
   "source": [
    "unique_x = list(set(x.ravel()))\n",
    "x_note_to_int = dict((note_, number) for number, note_ in enumerate(unique_x))\n",
    "x_note_to_int"
   ]
  },
  {
   "cell_type": "code",
   "execution_count": 11,
   "metadata": {},
   "outputs": [
    {
     "data": {
      "text/plain": [
       "array([[ 4,  4,  0, ...,  4,  5,  2],\n",
       "       [ 4,  0,  4, ...,  5,  2,  5],\n",
       "       [ 0,  4,  4, ...,  2,  5,  5],\n",
       "       ...,\n",
       "       [ 6,  6, 16, ...,  5,  5,  5],\n",
       "       [ 6, 16,  5, ...,  5,  5, 19],\n",
       "       [16,  5,  5, ...,  5, 19, 19]])"
      ]
     },
     "execution_count": 11,
     "metadata": {},
     "output_type": "execute_result"
    }
   ],
   "source": [
    "#preparing input sequences\n",
    "x_seq=[]\n",
    "for i in x:\n",
    "    temp=[]\n",
    "    for j in i:\n",
    "        #assigning unique integer to every note\n",
    "        temp.append(x_note_to_int[j])\n",
    "    x_seq.append(temp)\n",
    "    \n",
    "x_seq = np.array(x_seq)\n",
    "x_seq"
   ]
  },
  {
   "cell_type": "code",
   "execution_count": 12,
   "metadata": {},
   "outputs": [
    {
     "data": {
      "text/plain": [
       "array([ 4,  4, 15, ..., 19, 19, 19])"
      ]
     },
     "execution_count": 12,
     "metadata": {},
     "output_type": "execute_result"
    }
   ],
   "source": [
    "unique_y = list(set(y))\n",
    "y_note_to_int = dict((note_, number) for number, note_ in enumerate(unique_y)) \n",
    "y_seq=np.array([y_note_to_int[i] for i in y])\n",
    "y_seq"
   ]
  },
  {
   "cell_type": "code",
   "execution_count": 13,
   "metadata": {},
   "outputs": [],
   "source": [
    "from sklearn.model_selection import train_test_split\n",
    "x_tr, x_val, y_tr, y_val = train_test_split(x_seq,y_seq,test_size=0.2,random_state=0)"
   ]
  },
  {
   "cell_type": "code",
   "execution_count": 36,
   "metadata": {},
   "outputs": [
    {
     "data": {
      "text/plain": [
       "array([[18, 11, 11, ...,  9,  9, 13],\n",
       "       [ 5,  5,  7, ...,  4, 19,  7],\n",
       "       [13, 13, 13, ..., 13, 13, 13],\n",
       "       ...,\n",
       "       [ 5, 13,  5, ..., 13,  5, 13],\n",
       "       [15, 13,  9, ..., 13, 13,  8],\n",
       "       [13, 13,  9, ...,  5, 13, 17]])"
      ]
     },
     "execution_count": 36,
     "metadata": {},
     "output_type": "execute_result"
    }
   ],
   "source": [
    "x_tr"
   ]
  },
  {
   "cell_type": "code",
   "execution_count": 14,
   "metadata": {},
   "outputs": [
    {
     "name": "stderr",
     "output_type": "stream",
     "text": [
      "Using TensorFlow backend.\n"
     ]
    },
    {
     "name": "stdout",
     "output_type": "stream",
     "text": [
      "Model: \"sequential_1\"\n",
      "_________________________________________________________________\n",
      "Layer (type)                 Output Shape              Param #   \n",
      "=================================================================\n",
      "embedding_1 (Embedding)      (None, 32, 100)           2000      \n",
      "_________________________________________________________________\n",
      "conv1d_1 (Conv1D)            (None, 32, 64)            19264     \n",
      "_________________________________________________________________\n",
      "dropout_1 (Dropout)          (None, 32, 64)            0         \n",
      "_________________________________________________________________\n",
      "max_pooling1d_1 (MaxPooling1 (None, 16, 64)            0         \n",
      "_________________________________________________________________\n",
      "conv1d_2 (Conv1D)            (None, 16, 128)           24704     \n",
      "_________________________________________________________________\n",
      "dropout_2 (Dropout)          (None, 16, 128)           0         \n",
      "_________________________________________________________________\n",
      "max_pooling1d_2 (MaxPooling1 (None, 8, 128)            0         \n",
      "_________________________________________________________________\n",
      "conv1d_3 (Conv1D)            (None, 8, 256)            98560     \n",
      "_________________________________________________________________\n",
      "dropout_3 (Dropout)          (None, 8, 256)            0         \n",
      "_________________________________________________________________\n",
      "max_pooling1d_3 (MaxPooling1 (None, 4, 256)            0         \n",
      "_________________________________________________________________\n",
      "global_max_pooling1d_1 (Glob (None, 256)               0         \n",
      "_________________________________________________________________\n",
      "dense_1 (Dense)              (None, 256)               65792     \n",
      "_________________________________________________________________\n",
      "dense_2 (Dense)              (None, 20)                5140      \n",
      "=================================================================\n",
      "Total params: 215,460\n",
      "Trainable params: 215,460\n",
      "Non-trainable params: 0\n",
      "_________________________________________________________________\n"
     ]
    }
   ],
   "source": [
    "from keras.layers import *\n",
    "from keras.models import *\n",
    "from keras.callbacks import *\n",
    "import keras.backend as K\n",
    "\n",
    "K.clear_session()\n",
    "model = Sequential()\n",
    "    \n",
    "#embedding layer\n",
    "model.add(Embedding(len(unique_x), 100, input_length=32,trainable=True)) \n",
    "\n",
    "model.add(Conv1D(64,3, padding='causal',activation='relu'))\n",
    "model.add(Dropout(0.2))\n",
    "model.add(MaxPool1D(2))\n",
    "    \n",
    "model.add(Conv1D(128,3,activation='relu',dilation_rate=2,padding='causal'))\n",
    "model.add(Dropout(0.2))\n",
    "model.add(MaxPool1D(2))\n",
    "\n",
    "model.add(Conv1D(256,3,activation='relu',dilation_rate=4,padding='causal'))\n",
    "model.add(Dropout(0.2))\n",
    "model.add(MaxPool1D(2))\n",
    "          \n",
    "#model.add(Conv1D(256,5,activation='relu'))    \n",
    "model.add(GlobalMaxPool1D())\n",
    "    \n",
    "model.add(Dense(256, activation='relu'))\n",
    "model.add(Dense(len(unique_y), activation='softmax'))\n",
    "    \n",
    "model.compile(loss='sparse_categorical_crossentropy', optimizer='adam')\n",
    "\n",
    "model.summary()"
   ]
  },
  {
   "cell_type": "code",
   "execution_count": 15,
   "metadata": {},
   "outputs": [],
   "source": [
    "mc=ModelCheckpoint('best_model.h5', monitor='val_loss', mode='min', save_best_only=True,verbose=1)"
   ]
  },
  {
   "cell_type": "code",
   "execution_count": 16,
   "metadata": {},
   "outputs": [
    {
     "name": "stderr",
     "output_type": "stream",
     "text": [
      "/home/bikash/anaconda3/lib/python3.6/site-packages/tensorflow_core/python/framework/indexed_slices.py:433: UserWarning: Converting sparse IndexedSlices to a dense Tensor of unknown shape. This may consume a large amount of memory.\n",
      "  \"Converting sparse IndexedSlices to a dense Tensor of unknown shape. \"\n"
     ]
    },
    {
     "name": "stdout",
     "output_type": "stream",
     "text": [
      "Train on 4756 samples, validate on 1189 samples\n",
      "Epoch 1/15\n",
      "4756/4756 [==============================] - 3s 543us/step - loss: 2.1657 - val_loss: 2.0456\n",
      "\n",
      "Epoch 00001: val_loss improved from inf to 2.04556, saving model to best_model.h5\n",
      "Epoch 2/15\n",
      "4756/4756 [==============================] - 0s 49us/step - loss: 1.8638 - val_loss: 1.9902\n",
      "\n",
      "Epoch 00002: val_loss improved from 2.04556 to 1.99020, saving model to best_model.h5\n",
      "Epoch 3/15\n",
      "4756/4756 [==============================] - 0s 54us/step - loss: 1.7819 - val_loss: 1.8593\n",
      "\n",
      "Epoch 00003: val_loss improved from 1.99020 to 1.85934, saving model to best_model.h5\n",
      "Epoch 4/15\n",
      "4756/4756 [==============================] - 0s 56us/step - loss: 1.7167 - val_loss: 1.8391\n",
      "\n",
      "Epoch 00004: val_loss improved from 1.85934 to 1.83915, saving model to best_model.h5\n",
      "Epoch 5/15\n",
      "4756/4756 [==============================] - 0s 48us/step - loss: 1.6586 - val_loss: 1.8198\n",
      "\n",
      "Epoch 00005: val_loss improved from 1.83915 to 1.81976, saving model to best_model.h5\n",
      "Epoch 6/15\n",
      "4756/4756 [==============================] - 0s 47us/step - loss: 1.6276 - val_loss: 1.7700\n",
      "\n",
      "Epoch 00006: val_loss improved from 1.81976 to 1.76995, saving model to best_model.h5\n",
      "Epoch 7/15\n",
      "4756/4756 [==============================] - 0s 48us/step - loss: 1.6120 - val_loss: 1.7626\n",
      "\n",
      "Epoch 00007: val_loss improved from 1.76995 to 1.76261, saving model to best_model.h5\n",
      "Epoch 8/15\n",
      "4756/4756 [==============================] - 0s 59us/step - loss: 1.5844 - val_loss: 1.7108\n",
      "\n",
      "Epoch 00008: val_loss improved from 1.76261 to 1.71076, saving model to best_model.h5\n",
      "Epoch 9/15\n",
      "4756/4756 [==============================] - 0s 53us/step - loss: 1.5594 - val_loss: 1.6550\n",
      "\n",
      "Epoch 00009: val_loss improved from 1.71076 to 1.65503, saving model to best_model.h5\n",
      "Epoch 10/15\n",
      "4756/4756 [==============================] - 0s 48us/step - loss: 1.5490 - val_loss: 1.7206\n",
      "\n",
      "Epoch 00010: val_loss did not improve from 1.65503\n",
      "Epoch 11/15\n",
      "4756/4756 [==============================] - 0s 55us/step - loss: 1.5219 - val_loss: 1.6806\n",
      "\n",
      "Epoch 00011: val_loss did not improve from 1.65503\n",
      "Epoch 12/15\n",
      "4756/4756 [==============================] - 0s 48us/step - loss: 1.5092 - val_loss: 1.6525\n",
      "\n",
      "Epoch 00012: val_loss improved from 1.65503 to 1.65247, saving model to best_model.h5\n",
      "Epoch 13/15\n",
      "4756/4756 [==============================] - 0s 47us/step - loss: 1.4987 - val_loss: 1.6738\n",
      "\n",
      "Epoch 00013: val_loss did not improve from 1.65247\n",
      "Epoch 14/15\n",
      "4756/4756 [==============================] - 0s 48us/step - loss: 1.4867 - val_loss: 1.6575\n",
      "\n",
      "Epoch 00014: val_loss did not improve from 1.65247\n",
      "Epoch 15/15\n",
      "4756/4756 [==============================] - 0s 60us/step - loss: 1.4724 - val_loss: 1.6180\n",
      "\n",
      "Epoch 00015: val_loss improved from 1.65247 to 1.61796, saving model to best_model.h5\n"
     ]
    }
   ],
   "source": [
    "history = model.fit(np.array(x_tr),np.array(y_tr),batch_size=128,epochs=15, validation_data=(np.array(x_val),np.array(y_val)),verbose=1, callbacks=[mc])"
   ]
  },
  {
   "cell_type": "code",
   "execution_count": 17,
   "metadata": {},
   "outputs": [
    {
     "name": "stderr",
     "output_type": "stream",
     "text": [
      "/home/bikash/anaconda3/lib/python3.6/site-packages/tensorflow_core/python/framework/indexed_slices.py:433: UserWarning: Converting sparse IndexedSlices to a dense Tensor of unknown shape. This may consume a large amount of memory.\n",
      "  \"Converting sparse IndexedSlices to a dense Tensor of unknown shape. \"\n"
     ]
    }
   ],
   "source": [
    "#loading best model\n",
    "from keras.models import load_model\n",
    "model = load_model('best_model.h5')"
   ]
  },
  {
   "cell_type": "code",
   "execution_count": 18,
   "metadata": {},
   "outputs": [
    {
     "name": "stdout",
     "output_type": "stream",
     "text": [
      "[4, 4, 4, 4, 4, 4, 4, 4, 4, 4]\n"
     ]
    }
   ],
   "source": [
    "\n",
    "import random\n",
    "ind = np.random.randint(0,len(x_val)-1)\n",
    "\n",
    "random_music = x_val[ind]\n",
    "\n",
    "predictions=[]\n",
    "for i in range(10):\n",
    "\n",
    "    random_music = random_music.reshape(1,no_of_timesteps)\n",
    "\n",
    "    prob  = model.predict(random_music)[0]\n",
    "    y_pred= np.argmax(prob,axis=0)\n",
    "    predictions.append(y_pred)\n",
    "\n",
    "    random_music = np.insert(random_music[0],len(random_music[0]),y_pred)\n",
    "    random_music = random_music[1:]\n",
    "    \n",
    "print(predictions)"
   ]
  },
  {
   "cell_type": "code",
   "execution_count": 20,
   "metadata": {},
   "outputs": [
    {
     "data": {
      "text/plain": [
       "['48', '48', '48', '48', '48', '48', '48', '48', '48', '48']"
      ]
     },
     "execution_count": 20,
     "metadata": {},
     "output_type": "execute_result"
    }
   ],
   "source": [
    "x_int_to_note = dict((number, note_) for number, note_ in enumerate(unique_x)) \n",
    "predicted_notes = [x_int_to_note[i] for i in predictions]\n",
    "predicted_notes"
   ]
  },
  {
   "cell_type": "code",
   "execution_count": null,
   "metadata": {},
   "outputs": [],
   "source": []
  },
  {
   "cell_type": "code",
   "execution_count": 35,
   "metadata": {},
   "outputs": [
    {
     "name": "stdout",
     "output_type": "stream",
     "text": [
      "114\n",
      "<pretty_midi.pretty_midi.PrettyMIDI object at 0x7f85b42d94e0>\n"
     ]
    }
   ],
   "source": [
    "import pretty_midi\n",
    "#https://books.google.no/books?id=SUvODwAAQBAJ&pg=PA175&lpg=PA175&dq=pretty_midi+for+drum+midi+example&source=bl&ots=zROtaiYtB-&sig=ACfU3U1K6G433BUHSWAeuPOJo0rgNazstQ&hl=no&sa=X&ved=2ahUKEwiy89ffkcLoAhUawsQBHd6xCooQ6AEwA3oECAoQAQ#v=onepage&q=pretty_midi%20for%20drum%20midi%20example&f=false\n",
    "\n",
    "def create_midi(notes):\n",
    "    new_midi_data = pretty_midi.PrettyMIDI()\n",
    "    drum_program = pretty_midi.instrument_name_to_program('SteelDrums')\n",
    "    print (drum_program)\n",
    "    drum = pretty_midi.Instrument(program=0, is_drum=True, name=\"Midi Drums\")\n",
    "    time = 0\n",
    "    step = 0.1\n",
    "    for note_number in notes:\n",
    "        myNote = pretty_midi.Note(velocity=100, pitch=int(note_number), start=time, end=time+step)\n",
    "        drum.notes.append(myNote)\n",
    "        time += step\n",
    "    new_midi_data.instruments.append(drum)\n",
    "    return new_midi_data\n",
    "\n",
    "new_midi_data = create_midi(predicted_notes)\n",
    "print (new_midi_data)\n",
    "new_midi_data.write('final.mid')"
   ]
  },
  {
   "cell_type": "code",
   "execution_count": 33,
   "metadata": {},
   "outputs": [
    {
     "name": "stdout",
     "output_type": "stream",
     "text": [
      "[Instrument(program=0, is_drum=True, name=\"Midi Drums\")]\n"
     ]
    }
   ],
   "source": [
    "from pretty_midi import Instrument\n",
    "pm = pretty_midi.PrettyMIDI(\"data/rock1.mid\")\n",
    "pm.instruments = [instrument for instrument in pm.instruments if instrument.is_drum]\n",
    "print (pm.instruments)\n",
    "drum = Instrument(program=0, is_drum=True)"
   ]
  },
  {
   "cell_type": "code",
   "execution_count": null,
   "metadata": {},
   "outputs": [],
   "source": []
  },
  {
   "cell_type": "code",
   "execution_count": null,
   "metadata": {},
   "outputs": [],
   "source": []
  }
 ],
 "metadata": {
  "kernelspec": {
   "display_name": "Python 3",
   "language": "python",
   "name": "python3"
  },
  "language_info": {
   "codemirror_mode": {
    "name": "ipython",
    "version": 3
   },
   "file_extension": ".py",
   "mimetype": "text/x-python",
   "name": "python",
   "nbconvert_exporter": "python",
   "pygments_lexer": "ipython3",
   "version": "3.6.8"
  }
 },
 "nbformat": 4,
 "nbformat_minor": 2
}
