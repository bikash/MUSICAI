{
 "cells": [
  {
   "cell_type": "code",
   "execution_count": 2,
   "metadata": {},
   "outputs": [
    {
     "ename": "NameError",
     "evalue": "name 'midi' is not defined",
     "output_type": "error",
     "traceback": [
      "\u001b[0;31m---------------------------------------------------------------------------\u001b[0m",
      "\u001b[0;31mNameError\u001b[0m                                 Traceback (most recent call last)",
      "\u001b[0;32m<ipython-input-2-003a24cda577>\u001b[0m in \u001b[0;36m<module>\u001b[0;34m\u001b[0m\n\u001b[1;32m     31\u001b[0m \u001b[0;31m#                                               }\u001b[0m\u001b[0;34m\u001b[0m\u001b[0;34m\u001b[0m\u001b[0;34m\u001b[0m\u001b[0m\n\u001b[1;32m     32\u001b[0m \u001b[0;34m\u001b[0m\u001b[0m\n\u001b[0;32m---> 33\u001b[0;31m pitch_to_midipitch = {36:midi.C_3,  # for logic 'SoCal' drum mapping\n\u001b[0m\u001b[1;32m     34\u001b[0m                                                 \u001b[0;36m38\u001b[0m\u001b[0;34m:\u001b[0m\u001b[0mmidi\u001b[0m\u001b[0;34m.\u001b[0m\u001b[0mD_3\u001b[0m\u001b[0;34m,\u001b[0m\u001b[0;34m\u001b[0m\u001b[0;34m\u001b[0m\u001b[0m\n\u001b[1;32m     35\u001b[0m                                                 \u001b[0;36m39\u001b[0m\u001b[0;34m:\u001b[0m\u001b[0mmidi\u001b[0m\u001b[0;34m.\u001b[0m\u001b[0mEb_3\u001b[0m\u001b[0;34m,\u001b[0m\u001b[0;34m\u001b[0m\u001b[0;34m\u001b[0m\u001b[0m\n",
      "\u001b[0;31mNameError\u001b[0m: name 'midi' is not defined"
     ]
    }
   ],
   "source": [
    "import pdb\n",
    "\n",
    "PPQ = 480 # Pulse per quater note\n",
    "event_per_bar = 16 # to quantise.\n",
    "min_ppq = PPQ / (event_per_bar/4)\n",
    "# ignore: 39 hand clap, 54 tambourine, 56 Cowbell, 58 Vibraslap, 60-81\n",
    "drum_conversion = {35:36, # acoustic bass drum -> bass drum (36)\n",
    "\t\t\t\t\t37:38, 40:38, # 37:side stick, 38: acou snare, 40: electric snare\n",
    "\t\t\t\t\t43:41, # 41 low floor tom, 43 ghigh floor tom\n",
    "\t\t\t\t\t47:45, # 45 low tom, 47 low-mid tom\n",
    "\t\t\t\t\t50:48, # 50 high tom, 48 hi mid tom\n",
    "\t\t\t\t\t44:42, # 42 closed HH, 44 pedal HH\n",
    "\t\t\t\t\t57:49, # 57 Crash 2, 49 Crash 1\n",
    "\t\t\t\t\t59:51, 53:51, 55:51, # 59 Ride 2, 51 Ride 1, 53 Ride bell, 55 Splash\n",
    "\t\t\t\t\t52:49 # 52: China cymbal\n",
    "\t\t\t\t\t}\n",
    "\t\t\t\t# k, sn,cHH,oHH,LFtom,ltm,htm,Rde,Crash\n",
    "allowed_pitch = [36, 38, 42, 46, 41, 45, 48, 51, 49] # 46: open HH\n",
    "cymbals_pitch = [49, 51] # crash, ride\n",
    "cymbals_pitch = [] # crash, ride\n",
    "# pitch_to_midipitch = {36:midi.C_2, # kick # for general MIDI Drum map\n",
    "# \t\t\t\t\t\t38:midi.D_2, # Snare\n",
    "# \t\t\t\t\t\t39:midi.Eb_2, # hand clap (it's alive by mistake..)\n",
    "# \t\t\t\t\t\t41:midi.F_2, # Low floor tom\n",
    "# \t\t\t\t\t\t42:midi.Gb_2, # Close HH\n",
    "# \t\t\t\t\t\t45:midi.A_2, # Low tom\n",
    "# \t\t\t\t\t\t46:midi.Bb_2, # Open HH\n",
    "# \t\t\t\t\t\t48:midi.C_3,  # Hi Mid Tom\n",
    "# \t\t\t\t\t\t49:midi.Db_3, # Crash\n",
    "# \t\t\t\t\t\t51:midi.Eb_3 # Ride\n",
    "# \t\t\t\t\t\t}\n",
    "\n",
    "pitch_to_midipitch = {36:midi.C_3,  # for logic 'SoCal' drum mapping\n",
    "\t\t\t\t\t\t38:midi.D_3, \n",
    "\t\t\t\t\t\t39:midi.Eb_3,\n",
    "\t\t\t\t\t\t41:midi.F_3,\n",
    "\t\t\t\t\t\t42:midi.Gb_3,\n",
    "\t\t\t\t\t\t45:midi.A_3,\n",
    "\t\t\t\t\t\t46:midi.Bb_3,\n",
    "\t\t\t\t\t\t48:midi.C_4,\n",
    "\t\t\t\t\t\t49:midi.Db_4,\n",
    "\t\t\t\t\t\t51:midi.Eb_4\n",
    "\t\t\t\t\t\t}\n"
   ]
  },
  {
   "cell_type": "code",
   "execution_count": null,
   "metadata": {},
   "outputs": [],
   "source": []
  }
 ],
 "metadata": {
  "kernelspec": {
   "display_name": "Python 3",
   "language": "python",
   "name": "python3"
  },
  "language_info": {
   "codemirror_mode": {
    "name": "ipython",
    "version": 3
   },
   "file_extension": ".py",
   "mimetype": "text/x-python",
   "name": "python",
   "nbconvert_exporter": "python",
   "pygments_lexer": "ipython3",
   "version": "3.6.8"
  }
 },
 "nbformat": 4,
 "nbformat_minor": 2
}
