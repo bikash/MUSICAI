{
 "cells": [
  {
   "cell_type": "code",
   "execution_count": null,
   "metadata": {},
   "outputs": [],
   "source": []
  },
  {
   "cell_type": "code",
   "execution_count": 4,
   "metadata": {},
   "outputs": [
    {
     "name": "stdout",
     "output_type": "stream",
     "text": [
      "Collecting TensorboardX\n",
      "\u001b[?25l  Downloading https://files.pythonhosted.org/packages/35/f1/5843425495765c8c2dd0784a851a93ef204d314fc87bcc2bbb9f662a3ad1/tensorboardX-2.0-py2.py3-none-any.whl (195kB)\n",
      "\u001b[K     |████████████████████████████████| 204kB 7.4MB/s eta 0:00:01\n",
      "\u001b[?25hRequirement already satisfied: six in /home/bikash/anaconda3/lib/python3.6/site-packages (from TensorboardX) (1.12.0)\n",
      "Requirement already satisfied: numpy in /home/bikash/anaconda3/lib/python3.6/site-packages (from TensorboardX) (1.17.4)\n",
      "Requirement already satisfied: protobuf>=3.8.0 in /home/bikash/anaconda3/lib/python3.6/site-packages (from TensorboardX) (3.10.0)\n",
      "Requirement already satisfied: setuptools in /home/bikash/anaconda3/lib/python3.6/site-packages (from protobuf>=3.8.0->TensorboardX) (41.4.0)\n",
      "Installing collected packages: TensorboardX\n",
      "Successfully installed TensorboardX-2.0\n"
     ]
    }
   ],
   "source": [
    "!pip install TensorboardX"
   ]
  },
  {
   "cell_type": "code",
   "execution_count": 1,
   "metadata": {},
   "outputs": [
    {
     "name": "stdout",
     "output_type": "stream",
     "text": [
      "pygame 1.9.6\n",
      "Hello from the pygame community. https://www.pygame.org/contribute.html\n"
     ]
    }
   ],
   "source": [
    "import numpy as np\n",
    "import pypianoroll\n",
    "from pypianoroll import Multitrack, Track\n",
    "from matplotlib import pyplot as plt\n",
    "import pretty_midi\n",
    "import logging\n",
    "logger = logging.getLogger()\n",
    "logger.setLevel(logging.INFO)\n",
    "import pygame\n",
    "import os\n",
    "import pickle\n",
    "import subprocess\n",
    "\n",
    "%matplotlib inline\n",
    "\n",
    "import matplotlib\n",
    "\n",
    "import seaborn as sns\n",
    "\n",
    "\n",
    "from IPython import display\n",
    "\n",
    "from torch.utils.data import DataLoader\n",
    "import torch\n",
    "from torch.optim import Adam\n",
    "from torch.autograd import Variable\n",
    "\n",
    "import torch.nn as nn\n",
    "import pandas as pd\n",
    "from skimage import io, transform\n",
    "import tensorflow as tf\n",
    "import logging\n",
    "from tensorflow import layers\n",
    "\n",
    "\n",
    "import os\n",
    "import zipfile"
   ]
  },
  {
   "cell_type": "code",
   "execution_count": 2,
   "metadata": {},
   "outputs": [],
   "source": [
    "# Parse a MIDI file to a `pypianoroll.Multitrack` instance\n",
    "\n",
    "multitrack = Multitrack('./data/rock.mid')\n",
    "for idx, track in enumerate(multitrack.tracks):\n",
    "    pianoroll = track.pianoroll\n",
    "\n",
    "\n",
    "#print (multitrack.beat_resolution,)\n",
    "num_track = len(multitrack.tracks)\n",
    "downbeats = multitrack.get_downbeat_steps()\n",
    "#print (downbeats,num_track)"
   ]
  },
  {
   "cell_type": "code",
   "execution_count": 3,
   "metadata": {},
   "outputs": [
    {
     "data": {
      "text/plain": [
       "(5664, 128)"
      ]
     },
     "execution_count": 3,
     "metadata": {},
     "output_type": "execute_result"
    }
   ],
   "source": [
    "pianoroll.shape"
   ]
  },
  {
   "cell_type": "code",
   "execution_count": 4,
   "metadata": {},
   "outputs": [
    {
     "name": "stderr",
     "output_type": "stream",
     "text": [
      "Using TensorFlow backend.\n"
     ]
    }
   ],
   "source": [
    "\n",
    "import os\n",
    "import numpy as np\n",
    "from keras.models import Model, Sequential\n",
    "from keras.layers import Input, Dense, Reshape, Flatten\n",
    "from keras.layers import Activation, UpSampling2D, Conv2D\n",
    "from keras.layers.merge import _Merge\n",
    "from keras.layers.convolutional import Convolution2D, Conv2DTranspose\n",
    "from keras.layers.normalization import BatchNormalization\n",
    "from keras.layers.advanced_activations import LeakyReLU\n",
    "from keras.optimizers import Adam\n",
    "from keras.datasets import mnist\n",
    "from keras.callbacks import TensorBoard\n",
    "from keras.utils.np_utils import to_categorical\n",
    "from keras import backend as K\n",
    "from functools import partial\n",
    "import tensorflow as tf\n",
    "\n",
    "import sys"
   ]
  },
  {
   "cell_type": "code",
   "execution_count": 5,
   "metadata": {},
   "outputs": [
    {
     "name": "stdout",
     "output_type": "stream",
     "text": [
      "WARNING:tensorflow:From /home/bikash/anaconda3/lib/python3.6/site-packages/tensorflow_core/python/ops/resource_variable_ops.py:1630: calling BaseResourceVariable.__init__ (from tensorflow.python.ops.resource_variable_ops) with constraint is deprecated and will be removed in a future version.\n",
      "Instructions for updating:\n",
      "If using Keras pass *_constraint arguments to layers.\n"
     ]
    },
    {
     "data": {
      "text/plain": [
       "<keras.engine.sequential.Sequential at 0x7f5b00507a58>"
      ]
     },
     "execution_count": 5,
     "metadata": {},
     "output_type": "execute_result"
    }
   ],
   "source": [
    "def make_generator():\n",
    "    D = 64 # model size\n",
    "\n",
    "    model = Sequential()\n",
    "    model.add(Dense(256 * D, input_dim=100))\n",
    "    model.add(Reshape((4, 4, 16 * D)))\n",
    "    model.add(Activation('relu'))\n",
    "    model.add(UpSampling2D(size=(2, 2)))\n",
    "    model.add(Conv2D(8 * D, (5, 5), padding='same'))\n",
    "    #model.add(Conv2DTranspose(8*D, (5, 5), strides=(2,2), padding='same'))\n",
    "    model.add(Activation('relu'))\n",
    "    model.add(UpSampling2D(size=(2, 2)))\n",
    "    model.add(Conv2D(4 * D, (5, 5), padding='same'))\n",
    "    #model.add(Conv2DTranspose(4*D, (5, 5), strides=(2,2), padding='same'))\n",
    "    model.add(Activation('relu'))\n",
    "    model.add(UpSampling2D(size=(2, 2)))\n",
    "    model.add(Conv2D(2 * D, (5, 5), padding='same'))\n",
    "    #model.add(Conv2DTranspose(2*D, (5, 5), strides=(2,2), padding='same'))\n",
    "    model.add(Activation('relu'))\n",
    "    model.add(Conv2D(D, (5, 5), padding='same'))\n",
    "    model.add(UpSampling2D(size=(2, 2)))\n",
    "    #model.add(Conv2DTranspose(D, (5, 5), strides=(2,2), padding='same'))\n",
    "    model.add(Activation('relu'))\n",
    "    model.add(UpSampling2D(size=(2, 2)))\n",
    "    model.add(Conv2D(1, (5, 5), padding='same'))\n",
    "    #model.add(Conv2DTranspose(1, (5, 5), strides=(2,2), padding='same'))\n",
    "\n",
    "    model.add(Activation('tanh'))\n",
    "\n",
    "    return model\n",
    "\n",
    "def make_discriminator(nb_categories):\n",
    "    D = 64 # model size\n",
    "\n",
    "    input_data = Input(shape=(128, 128, 1))\n",
    "    x = Conv2D(D, (5, 5), strides=(2,2), padding='same')(input_data)\n",
    "    x = LeakyReLU(alpha=0.2)(x)\n",
    "    x = Conv2D(D * 2, (5, 5), strides=(2,2), kernel_initializer='he_normal',padding='same')(x)\n",
    "    x = LeakyReLU(alpha=0.2)(x)\n",
    "    x = Conv2D(D * 4, (5, 5), strides=(2,2), kernel_initializer='he_normal',padding='same')(x)\n",
    "    x = LeakyReLU(alpha=0.2)(x)\n",
    "    x = Conv2D(D * 8, (5, 5), strides=(2,2), kernel_initializer='he_normal',padding='same')(x)\n",
    "    x = LeakyReLU(alpha=0.2)(x)\n",
    "    x = Conv2D(D * 16, (5, 5), strides=(2,2), kernel_initializer='he_normal', padding='same')(x)\n",
    "    x = LeakyReLU(alpha=0.2)(x)\n",
    "    x = Flatten()(x)\n",
    "    real_fake = Dense(1, kernel_initializer='he_normal', name='real_fake')(x) # no activation for wasserstein_loss\n",
    "    categories = Dense(nb_categories, kernel_initializer='he_normal', name='categories', activation='softmax')(x)\n",
    "\n",
    "    model = Model(input_data, [real_fake, categories])\n",
    "\n",
    "    return model\n",
    "\n",
    "generator = make_generator()\n",
    "generator"
   ]
  },
  {
   "cell_type": "code",
   "execution_count": null,
   "metadata": {},
   "outputs": [],
   "source": []
  }
 ],
 "metadata": {
  "kernelspec": {
   "display_name": "Python 3",
   "language": "python",
   "name": "python3"
  },
  "language_info": {
   "codemirror_mode": {
    "name": "ipython",
    "version": 3
   },
   "file_extension": ".py",
   "mimetype": "text/x-python",
   "name": "python",
   "nbconvert_exporter": "python",
   "pygments_lexer": "ipython3",
   "version": "3.6.8"
  }
 },
 "nbformat": 4,
 "nbformat_minor": 2
}
